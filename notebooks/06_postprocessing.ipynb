{
 "cells": [
  {
   "cell_type": "markdown",
   "id": "db1a6178-cb16-4380-95a7-6620ef72804c",
   "metadata": {},
   "source": [
    "# Postprocessing"
   ]
  },
  {
   "cell_type": "code",
   "execution_count": null,
   "id": "0ae64576-c859-450a-8705-75022e34851f",
   "metadata": {},
   "outputs": [],
   "source": [
    "import os\n",
    "if os.getcwd().split('/')[-1] == 'notebooks':\n",
    "    os.chdir(os.pardir)\n",
    "\n",
    "import matplotlib.pyplot as plt\n",
    "import numpy as np\n",
    "import pandas as pd\n",
    "import seaborn as sns\n",
    "\n",
    "from src.plotting import set_paper_context, set_poster_context"
   ]
  },
  {
   "cell_type": "markdown",
   "id": "4f6a1658-df64-4aaf-97c5-840ad37c3f57",
   "metadata": {},
   "source": [
    "## Data"
   ]
  },
  {
   "cell_type": "code",
   "execution_count": null,
   "id": "3692172f-39ad-4dae-b50e-a7afeacfc987",
   "metadata": {},
   "outputs": [],
   "source": [
    "PATH_ERROR_DATA = os.path.join('data', 'models')"
   ]
  },
  {
   "cell_type": "code",
   "execution_count": null,
   "id": "38682069-1a81-4f87-ab88-14f533091124",
   "metadata": {},
   "outputs": [],
   "source": [
    "base_ae = np.load(os.path.join(PATH_ERROR_DATA, 'baseline.npy'))\n",
    "mlp_ae = np.load(os.path.join(PATH_ERROR_DATA, 'multilayer_perceptron.npy'))\n",
    "moe_ae = np.load(os.path.join(PATH_ERROR_DATA, 'mixture_of_experts.npy'))\n",
    "tabnet_ae = np.load(os.path.join(PATH_ERROR_DATA, 'tabnet.npy'))"
   ]
  },
  {
   "cell_type": "code",
   "execution_count": null,
   "id": "a29f54b9-18d6-4bf2-b54c-f2047ceb90dd",
   "metadata": {},
   "outputs": [],
   "source": [
    "df = pd.DataFrame(data={'baseline': base_ae,\n",
    "                        'MLP': mlp_ae,\n",
    "                        'TabNet': tabnet_ae,\n",
    "                        'MoE': moe_ae})"
   ]
  },
  {
   "cell_type": "code",
   "execution_count": null,
   "id": "68b769cb-5cad-440b-a2fa-27a7841444ab",
   "metadata": {},
   "outputs": [],
   "source": [
    "with set_paper_context():\n",
    "    cs = sns.color_palette('rocket', 4)\n",
    "\n",
    "    fig, ax = plt.subplots(1, 1, figsize=(4.5, 4))\n",
    "    ax = sns.barplot(df,\n",
    "                     edgecolor=(cs[2], cs[0], cs[1], cs[3]), facecolor='none',\n",
    "                     errwidth=1.5, capsize=0.1, lw=2, ax=ax)\n",
    "    ax.set(xlabel='', ylabel='',\n",
    "           yticks=[0, 0.06, 0.12],\n",
    "           yticklabels=[0, 0.06, 0.12],\n",
    "           ylim=[0, 0.125]\n",
    "          )\n",
    "\n",
    "    fig.supxlabel('model')\n",
    "    fig.supylabel('absolute error [°C]')\n",
    "    fig.tight_layout()\n",
    "    sns.despine()\n",
    "\n",
    "    # fig_name = os.path.join('figures', 'models.pdf')\n",
    "    # fig.savefig(fig_name, dpi=200, bbox_inches='tight')"
   ]
  },
  {
   "cell_type": "code",
   "execution_count": null,
   "id": "46d1d567-c0c6-4d73-a858-8982456c3cd5",
   "metadata": {},
   "outputs": [],
   "source": [
    "with set_poster_context(font_scale=2):\n",
    "    cs = sns.color_palette('rocket', 4)\n",
    "\n",
    "    fig, ax = plt.subplots(1, 1, figsize=(6.5, 5.5))\n",
    "    ax = sns.barplot(df,\n",
    "                     edgecolor=(cs[2], cs[0], cs[1], cs[3]),\n",
    "                     facecolor='none',\n",
    "                     errwidth=2, capsize=0.1, lw=3, ax=ax)\n",
    "    for container in ax.containers:\n",
    "        ax.bar_label(container,\n",
    "                     label_type='center',\n",
    "                     fmt='%.3f', color='k')\n",
    "    ax.set(xlabel='', ylabel='',\n",
    "           title='absolute estimation error (°C)',\n",
    "           yticks=[0, 0.06, 0.12],\n",
    "           yticklabels=[0, 0.06, 0.12],\n",
    "           ylim=[0, 0.125])\n",
    "    fig.tight_layout()\n",
    "    sns.despine()\n",
    "\n",
    "    # fig_name = os.path.join('figures', 'poster', 'models.png')\n",
    "    # fig.savefig(fig_name, dpi=500, bbox_inches='tight')"
   ]
  },
  {
   "cell_type": "code",
   "execution_count": null,
   "id": "41ea1e41-3d6c-4a82-888f-bd67006b7a66",
   "metadata": {},
   "outputs": [],
   "source": []
  }
 ],
 "metadata": {
  "kernelspec": {
   "display_name": "Python 3 (ipykernel)",
   "language": "python",
   "name": "python3"
  },
  "language_info": {
   "codemirror_mode": {
    "name": "ipython",
    "version": 3
   },
   "file_extension": ".py",
   "mimetype": "text/x-python",
   "name": "python",
   "nbconvert_exporter": "python",
   "pygments_lexer": "ipython3",
   "version": "3.9.15"
  }
 },
 "nbformat": 4,
 "nbformat_minor": 5
}
