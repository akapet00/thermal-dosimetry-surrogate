{
 "cells": [
  {
   "cell_type": "markdown",
   "id": "1a61083b-e528-47ca-842e-4e1483e0adde",
   "metadata": {},
   "source": [
    "# Baseline model"
   ]
  },
  {
   "cell_type": "code",
   "execution_count": null,
   "id": "224cb503-95ab-4a4e-851d-a8cc1452571e",
   "metadata": {},
   "outputs": [],
   "source": [
    "import os\n",
    "if os.getcwd().split('/')[-1] == 'notebooks':\n",
    "    os.chdir(os.pardir)\n",
    "\n",
    "import matplotlib.pyplot as plt\n",
    "import numpy as np\n",
    "np.random.seed(0)\n",
    "import pandas as pd\n",
    "import seaborn as sns\n",
    "from sklearn.model_selection import train_test_split\n",
    "from sklearn.metrics import mean_squared_error\n",
    "from sklearn.model_selection import GridSearchCV\n",
    "from xgboost import XGBRegressor"
   ]
  },
  {
   "cell_type": "markdown",
   "id": "c8f4e09f-c64b-41fc-ba97-23e68dd22ae0",
   "metadata": {},
   "source": [
    "Rationale for choosing the baseline model:\n",
    "1. Shwartz-Ziv, R. and Armon, A. Tabular data: Deep learning is not all you need. arXiv:2106.03253, 2021\n",
    "2. Grinsztajn, L., Oyallon, E., and Varoquaux, G. Why do tree-based models still outperform deep learning on tabular data? arXiv:2207.08815, 2022"
   ]
  },
  {
   "cell_type": "markdown",
   "id": "873efb15-6fe5-46ce-8897-223c12f7119e",
   "metadata": {},
   "source": [
    "## Data"
   ]
  },
  {
   "cell_type": "code",
   "execution_count": null,
   "id": "0754fa9f-6ee6-48ca-bef2-bafab2d42403",
   "metadata": {},
   "outputs": [],
   "source": [
    "PATH_PROC_DATA = os.path.join('data', 'processed')\n",
    "syn_data = pd.read_csv(os.path.join(PATH_PROC_DATA, 'pDeltaT_synthetic.csv'))\n",
    "true_data = pd.read_csv(os.path.join(PATH_PROC_DATA, 'pDeltaT_clean.csv'))\n",
    "\n",
    "features = ['d [mm]', 'f [GHz]', 'psPDtot_1 [W/m2]', 'psPDtot_4 [W/m2]']\n",
    "target = 'pDeltaT * 100 [°C]'\n",
    "X = syn_data[features]\n",
    "y = syn_data[target]\n",
    "\n",
    "# train and validation set - synthetic data\n",
    "X_train, X_valid, y_train, y_valid = train_test_split(X.to_numpy(),\n",
    "                                                      y.to_numpy(),\n",
    "                                                      test_size=.2)\n",
    "# test set - original data\n",
    "X_test = true_data[features].to_numpy()\n",
    "y_test = true_data[target].to_numpy()"
   ]
  },
  {
   "cell_type": "markdown",
   "id": "78c8c95b-a2d3-41f6-8237-f7cef5a3075c",
   "metadata": {},
   "source": [
    "## Importing/training the regressor"
   ]
  },
  {
   "cell_type": "code",
   "execution_count": null,
   "id": "b605f13b-9fc8-4853-a0eb-98fe769a38be",
   "metadata": {},
   "outputs": [],
   "source": [
    "try:\n",
    "    print('Trying to restore the regressor...')\n",
    "    model_opt = XGBRegressor()\n",
    "    model_opt.load_model(os.path.join('models', '02_baseline_model.json'))\n",
    "    print('Restoring successful.')\n",
    "except Exception as e:\n",
    "    print(e)\n",
    "    print('Training the regressor...')\n",
    "    \n",
    "    param_grid = {\n",
    "        'max_depth': [2, 3, 5, 7],\n",
    "        'max_leaves': [0, 1, 5, 10],\n",
    "        'learning_rate': [0.01, 0.025, 0.05, 0.1, 0.5],\n",
    "        'gamma': [0, 0.25, 0.5, 1.0, 1.5],\n",
    "        'reg_lambda': [0, 1, 5, 10, 20, 50],\n",
    "        'scale_pos_weight': [1, 3, 5, 10]\n",
    "    }\n",
    "\n",
    "    regressor = XGBRegressor(early_stopping_rounds=20)\n",
    "\n",
    "    grid = GridSearchCV(\n",
    "        estimator=regressor,\n",
    "        param_grid=param_grid,\n",
    "        scoring='neg_mean_squared_error',\n",
    "        verbose=0,\n",
    "        n_jobs=-1,\n",
    "        cv=5\n",
    "    )\n",
    "\n",
    "    grid.fit(X_train, y_train,\n",
    "             eval_set=[(X_eval, y_eval)],\n",
    "             verbose=False)\n",
    "    \n",
    "    print('Finishing...')\n",
    "    param_opt = grid.best_params_\n",
    "    model_opt = grid.best_estimator_\n",
    "    \n",
    "    print('Saving...')\n",
    "    model_opt.save_model(os.path.join('models', '02_baseline_model.json'))"
   ]
  },
  {
   "cell_type": "markdown",
   "id": "68cc1a4f-3e08-4ddb-bab2-9943aefbc1c9",
   "metadata": {},
   "source": [
    "## Evaluating the regressor"
   ]
  },
  {
   "cell_type": "code",
   "execution_count": null,
   "id": "d3dca6e2-a36c-4515-a56a-5f29b6c8eb3b",
   "metadata": {},
   "outputs": [],
   "source": [
    "y_pred = model_opt.predict(X_test)\n",
    "y_resid = y_test / 100 - y_pred / 100\n",
    "ae = np.abs(y_resid)\n",
    "mae = np.mean(ae)\n",
    "mae"
   ]
  },
  {
   "cell_type": "code",
   "execution_count": null,
   "id": "ba327c18-5e3b-4db2-a857-84d6b7862209",
   "metadata": {},
   "outputs": [],
   "source": [
    "fig, ax = plt.subplots(1, 1, figsize=(4.5, 4))\n",
    "ax = sns.histplot(x=ae, bins='fd', stat='density', kde=True, ax=ax)\n",
    "ax.vlines(mae, *ax.get_ybound(), ls='--',\n",
    "          label='mean absolute error')\n",
    "ax.set(xlabel='absolute error (°C)', ylabel='probability density')\n",
    "ax.legend();"
   ]
  },
  {
   "cell_type": "code",
   "execution_count": null,
   "id": "75a96b6c-c705-466e-af5e-6b73561397f2",
   "metadata": {},
   "outputs": [],
   "source": [
    "PATH_ERROR_DATA = os.path.join('data', 'models')\n",
    "error_data = os.path.join(PATH_ERROR_DATA, 'baseline.npy')\n",
    "save = False\n",
    "if save:\n",
    "    with open(error_data, 'wb') as f:\n",
    "        np.save(f, ae)"
   ]
  },
  {
   "cell_type": "code",
   "execution_count": null,
   "id": "1dd18f6e-3f85-4c0a-991f-bfaa276bc08e",
   "metadata": {},
   "outputs": [],
   "source": []
  }
 ],
 "metadata": {
  "kernelspec": {
   "display_name": "Python 3 (ipykernel)",
   "language": "python",
   "name": "python3"
  },
  "language_info": {
   "codemirror_mode": {
    "name": "ipython",
    "version": 3
   },
   "file_extension": ".py",
   "mimetype": "text/x-python",
   "name": "python",
   "nbconvert_exporter": "python",
   "pygments_lexer": "ipython3",
   "version": "3.9.15"
  }
 },
 "nbformat": 4,
 "nbformat_minor": 5
}
