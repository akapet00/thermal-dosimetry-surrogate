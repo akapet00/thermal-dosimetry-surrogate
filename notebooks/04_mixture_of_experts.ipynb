{
 "cells": [
  {
   "cell_type": "markdown",
   "id": "df3e0bc9-66eb-428b-b497-0418250fe1cb",
   "metadata": {},
   "source": [
    "# Mixture of experts"
   ]
  },
  {
   "cell_type": "code",
   "execution_count": null,
   "id": "d8664130-f764-440c-bdc6-f3d2a218b615",
   "metadata": {},
   "outputs": [],
   "source": [
    "import os\n",
    "if os.getcwd().split('/')[-1] == 'notebooks':\n",
    "    os.chdir(os.pardir)\n",
    "\n",
    "import matplotlib.pyplot as plt\n",
    "import numpy as np\n",
    "np.random.seed(0)\n",
    "import pandas as pd\n",
    "import pickle\n",
    "import seaborn as sns\n",
    "from sklearn.model_selection import train_test_split\n",
    "from sklearn.preprocessing import StandardScaler\n",
    "from sklearn.metrics import mean_squared_error\n",
    "from smt.applications import MOE\n",
    "from smt.surrogate_models import QP, RMTB, RMTC"
   ]
  },
  {
   "cell_type": "markdown",
   "id": "1965a80d-180d-4a4c-b40c-d971a7272d8d",
   "metadata": {},
   "source": [
    "## Data"
   ]
  },
  {
   "cell_type": "code",
   "execution_count": null,
   "id": "ea8ea8e9-2d96-4630-b563-00ac5eb227ac",
   "metadata": {},
   "outputs": [],
   "source": [
    "PATH_PROC_DATA = os.path.join('data', 'processed')\n",
    "syn_data = pd.read_csv(os.path.join(PATH_PROC_DATA, 'pDeltaT_synthetic.csv'))\n",
    "true_data = pd.read_csv(os.path.join(PATH_PROC_DATA, 'pDeltaT_clean.csv'))\n",
    "\n",
    "features = ['d [mm]', 'f [GHz]', 'psPDtot_1 [W/m2]', 'psPDtot_4 [W/m2]']\n",
    "target = 'pDeltaT * 100 [°C]'\n",
    "X = syn_data[features]\n",
    "y = syn_data[target] / 100\n",
    "\n",
    "X_train, X_valid, y_train, y_valid = train_test_split(X.to_numpy(),\n",
    "                                                      y.to_numpy()[:, np.newaxis],\n",
    "                                                      test_size=.2)\n",
    "X_test = true_data[features].to_numpy()\n",
    "y_test = true_data[target].to_numpy() / 100"
   ]
  },
  {
   "cell_type": "markdown",
   "id": "24719b32-644d-4e53-a93c-76b3d3d85bd7",
   "metadata": {},
   "source": [
    "## Quadratic polynimials"
   ]
  },
  {
   "cell_type": "code",
   "execution_count": null,
   "id": "95caff18-0e77-420f-ad5c-38500a0de1b1",
   "metadata": {},
   "outputs": [],
   "source": [
    "qp = QP()\n",
    "qp.set_training_values(X_train, y_train)\n",
    "qp.train()"
   ]
  },
  {
   "cell_type": "code",
   "execution_count": null,
   "id": "fe9a642c-e8e9-47c6-96d3-db28fc3cd472",
   "metadata": {},
   "outputs": [],
   "source": [
    "y_pred = qp.predict_values(X_test)\n",
    "rmse = np.sqrt(mean_squared_error(y_test, y_pred))\n",
    "\n",
    "y_resid = (y_test - y_pred.ravel())\n",
    "ae = np.abs(y_resid)\n",
    "mae = np.mean(ae)\n",
    "print(f'MAE: {mae}')"
   ]
  },
  {
   "cell_type": "markdown",
   "id": "44accadb-b495-40e6-92b4-fbd6faeb2fbe",
   "metadata": {},
   "source": [
    "## Mixture of experts"
   ]
  },
  {
   "cell_type": "code",
   "execution_count": null,
   "id": "8b4351ca-cb8b-4474-a455-0eaafcd70ff6",
   "metadata": {},
   "outputs": [],
   "source": [
    "def train(save=False):\n",
    "    experts = ['QP', 'RMTB', 'RMTC']\n",
    "    moe = MOE(n_clusters=2,\n",
    "              smooth_recombination=True,\n",
    "              allow=experts)\n",
    "    moe.set_training_values(X_train, y_train)\n",
    "    moe.train()\n",
    "    return moe"
   ]
  },
  {
   "cell_type": "code",
   "execution_count": null,
   "id": "79c44886-518e-4525-afda-6a91c298000b",
   "metadata": {},
   "outputs": [],
   "source": [
    "force_train = False\n",
    "save = False\n",
    "\n",
    "if force_train:\n",
    "    print('Fitting the surrogate model...')\n",
    "    moe = train(save)\n",
    "else:\n",
    "    try:\n",
    "        print('Trying to restore the surrogate model...')\n",
    "        with open(os.path.join('models', '04_mixture_of_experts.pkl'), 'rb') as f:\n",
    "            moe = pickle.load(f)\n",
    "        print('Restoring successful.')\n",
    "    except Exception as e:\n",
    "        print(e)\n",
    "        print('Restoring failed. Fitting the surrogate model...')\n",
    "        moe = train(save)\n",
    "if save:\n",
    "    with open(os.path.join('models', '04_mixture_of_experts.pkl'), 'wb') as f:\n",
    "        pickle.dump(moe, f)"
   ]
  },
  {
   "cell_type": "markdown",
   "id": "8b4055ce-74e8-48c4-9691-9d420b5a11ec",
   "metadata": {},
   "source": [
    "## Evaluating mixture of experts predicting power"
   ]
  },
  {
   "cell_type": "code",
   "execution_count": null,
   "id": "d0d5ad02-98e9-4565-b99a-1f42f9b47080",
   "metadata": {},
   "outputs": [],
   "source": [
    "y_pred = moe.predict_values(X_test)\n",
    "rmse = np.sqrt(mean_squared_error(y_test, y_pred))\n",
    "\n",
    "y_resid = (y_test - y_pred.ravel())\n",
    "ae = np.abs(y_resid)\n",
    "mae = np.mean(ae)\n",
    "print(f'MAE: {mae}')"
   ]
  },
  {
   "cell_type": "code",
   "execution_count": null,
   "id": "4c54193a-58fb-44dc-98e7-a8df7894a069",
   "metadata": {},
   "outputs": [],
   "source": [
    "fig, ax = plt.subplots(1, 1, figsize=(4.5, 4))\n",
    "ax = sns.histplot(x=ae, stat='density', kde=True, ax=ax)\n",
    "ax.vlines(mae, *ax.get_ybound(), ls='--', label='mean absolute error')\n",
    "ax.set(xlabel='absolute error (°C)', ylabel='probability density')\n",
    "ax.legend();"
   ]
  },
  {
   "cell_type": "code",
   "execution_count": null,
   "id": "25b3c2fc-9f2c-49fb-8944-accf1b161b83",
   "metadata": {},
   "outputs": [],
   "source": [
    "PATH_ERROR_DATA = os.path.join('data', 'models')\n",
    "error_data = os.path.join(PATH_ERROR_DATA, 'mixture_of_experts.npy')\n",
    "save = False\n",
    "if save:\n",
    "    with open(error_data, 'wb') as f:\n",
    "        np.save(f, ae)"
   ]
  },
  {
   "cell_type": "code",
   "execution_count": null,
   "id": "3bec7d9b-36d2-4294-a356-fd1649907fad",
   "metadata": {},
   "outputs": [],
   "source": []
  }
 ],
 "metadata": {
  "kernelspec": {
   "display_name": "Python 3 (ipykernel)",
   "language": "python",
   "name": "python3"
  },
  "language_info": {
   "codemirror_mode": {
    "name": "ipython",
    "version": 3
   },
   "file_extension": ".py",
   "mimetype": "text/x-python",
   "name": "python",
   "nbconvert_exporter": "python",
   "pygments_lexer": "ipython3",
   "version": "3.9.15"
  }
 },
 "nbformat": 4,
 "nbformat_minor": 5
}
