{
 "cells": [
  {
   "cell_type": "markdown",
   "id": "9a1c1adc-d2fb-4c8b-934e-9dbf2d90cf63",
   "metadata": {},
   "source": [
    "# Synthetic data generation"
   ]
  },
  {
   "cell_type": "code",
   "execution_count": null,
   "id": "4aac9b87-f9f5-40c1-b551-84d2d5d8f6bd",
   "metadata": {},
   "outputs": [],
   "source": [
    "import os\n",
    "\n",
    "import matplotlib.pyplot as plt\n",
    "%config InlineBackend.figure_format = 'retina'\n",
    "plt.rcParams.update({'text.usetex': True,\n",
    "                     'text.latex.preamble': r'\\usepackage{amsmath}',\n",
    "                     'font.family': 'serif'})\n",
    "import numpy as np\n",
    "np.random.seed(0)\n",
    "import pandas as pd\n",
    "from sdv.constraints import Inequality, ScalarRange\n",
    "from sdv.tabular import GaussianCopula, CTGAN\n",
    "from copulas.univariate import UniformUnivariate, GaussianKDE\n",
    "import seaborn as sns\n",
    "sns.set(style='ticks', font='serif')"
   ]
  },
  {
   "cell_type": "code",
   "execution_count": null,
   "id": "ab43787c-2429-4a3c-8e0a-89a38e3bc627",
   "metadata": {},
   "outputs": [],
   "source": [
    "PATH_PROC_DATA = os.path.join(os.pardir, 'data', 'processed')\n",
    "clean_data = pd.read_csv(os.path.join(PATH_PROC_DATA, 'pDeltaT_clean.csv'))"
   ]
  },
  {
   "cell_type": "code",
   "execution_count": null,
   "id": "95bc633c-9f80-4b8b-b6c8-fa0a93c47731",
   "metadata": {},
   "outputs": [],
   "source": [
    "n_tot_rel_1 = Inequality(low_column_name='psPDn_1 [W/m2]',\n",
    "                         high_column_name='psPDtot_1 [W/m2]')\n",
    "n_tot_rel_4 = Inequality(low_column_name='psPDn_4 [W/m2]',\n",
    "                         high_column_name='psPDtot_4 [W/m2]')\n",
    "table_metadata = {'fields': {'d [mm]': {'type': 'numerical', 'subtype': 'float'},\n",
    "                             'f [GHz]': {'type': 'numerical', 'subtype': 'float'},\n",
    "                             'pPDn [W/m2]': {'type': 'numerical', 'subtype': 'float'},\n",
    "                             'pPDtot [W/m2]': {'type': 'numerical', 'subtype': 'float'},\n",
    "                             'psPDn_1 [W/m2]': {'type': 'numerical', 'subtype': 'float'},\n",
    "                             'psPDtot_1 [W/m2]': {'type': 'numerical', 'subtype': 'float'},\n",
    "                             'psPDn_4 [W/m2]': {'type': 'numerical', 'subtype': 'float'},\n",
    "                             'psPDtot_4 [W/m2]': {'type': 'numerical', 'subtype': 'float'},\n",
    "                             'pDeltaT * 100 [°C]': {'type': 'numerical', 'subtype': 'float'}},\n",
    "                  'constraints': [n_tot_rel_1, n_tot_rel_4]}\n",
    "field_distributions = {'d [mm]': GaussianKDE,\n",
    "                       'f [GHz]': GaussianKDE,\n",
    "                       'pPDn [W/m2]': GaussianKDE,\n",
    "                       'pPDtot [W/m2]': GaussianKDE,\n",
    "                       'psPDn_1 [W/m2]': GaussianKDE,\n",
    "                       'psPDtot_1 [W/m2]': GaussianKDE,\n",
    "                       'psPDn_4 [W/m2]': GaussianKDE,\n",
    "                       'psPDtot_4 [W/m2]': GaussianKDE,\n",
    "                       'pDeltaT * 100 [°C]': GaussianKDE}"
   ]
  },
  {
   "cell_type": "code",
   "execution_count": null,
   "id": "47048d14-b009-4bd9-aa43-b47aea6deff6",
   "metadata": {},
   "outputs": [],
   "source": [
    "try:\n",
    "    syn_data = pd.read_csv(os.path.join(PATH_PROC_DATA, 'pDeltaT_synthetic.csv'))\n",
    "except Exception as e:\n",
    "    print(e, '\\nGenerating synthetic data...')\n",
    "    copula = GaussianCopula(table_metadata=table_metadata,\n",
    "                            field_distributions=field_distributions,\n",
    "                            learn_rounding_scheme=False)\n",
    "    copula.fit(clean_data)\n",
    "    syn_data = copula.sample(num_rows=10_000)\n",
    "    syn_data.to_csv(os.path.join(PATH_PROC_DATA, 'pDeltaT_synthetic.csv'),\n",
    "                    index=False)"
   ]
  },
  {
   "cell_type": "markdown",
   "id": "1bdc5e49-7147-43ce-900e-76ed5fbf0fb8",
   "metadata": {},
   "source": [
    "## Quality report"
   ]
  },
  {
   "cell_type": "code",
   "execution_count": null,
   "id": "910bd2b4-ff8a-40b7-aa0c-0b0851f527d4",
   "metadata": {},
   "outputs": [],
   "source": [
    "from sdmetrics.reports.single_table import QualityReport"
   ]
  },
  {
   "cell_type": "code",
   "execution_count": null,
   "id": "ad5bbf1c-2da2-4752-b34b-e640fe96a23b",
   "metadata": {},
   "outputs": [],
   "source": [
    "report = QualityReport()\n",
    "report.generate(real_data=clean_data.drop(columns='pDeltaT [°C]'),\n",
    "                synthetic_data=syn_data,\n",
    "                metadata=table_metadata)"
   ]
  },
  {
   "cell_type": "markdown",
   "id": "f6024d6a-18bc-493d-a290-e8957af1447b",
   "metadata": {},
   "source": [
    "### Column shapes"
   ]
  },
  {
   "cell_type": "markdown",
   "id": "7c3be752-d256-4add-bb55-551ff56ddfc4",
   "metadata": {},
   "source": [
    "The similarity of a real column vs. a synthetic column in terms of the column shapes - the marginal distribution of that column - by using the Kolmogorov-Smirnov (KS) test statistics. To compute this statistic, marginal distributions over real and synthetic data are converted into corresponding cumulative distribution functions. The KS statistic quantifies a distance between the empirical distribution functions. Here, the quality score is reported as 1 - KS statistic so that a higher score means higher quality."
   ]
  },
  {
   "cell_type": "code",
   "execution_count": null,
   "id": "e10c2401-c1f6-461b-a5c4-ebb27a7c7bca",
   "metadata": {},
   "outputs": [],
   "source": [
    "col_shapes = report.get_details(property_name='Column Shapes')\n",
    "display(col_shapes)"
   ]
  },
  {
   "cell_type": "code",
   "execution_count": null,
   "id": "741577f0-0d02-4b90-b409-e8c1e809cc30",
   "metadata": {},
   "outputs": [],
   "source": [
    "cs = sns.color_palette('rocket', 2)\n",
    "ps = ['00', '01', '10', '11']\n",
    "xs = ['psPDn_4 [W/m2]',\n",
    "      'psPDtot_4 [W/m2]',\n",
    "      'psPDn_1 [W/m2]',\n",
    "      'psPDtot_1 [W/m2]']\n",
    "ls = [r'$psPD_{\\text{n}, 4}$',\n",
    "      r'$psPD_{\\text{tot}, 4}$',\n",
    "      r'$psPD_{\\text{n}, 1}$',\n",
    "      r'$psPD_{\\text{tot}, 1}$']\n",
    "\n",
    "fig, axs = plt.subplots(2, 2, sharex=False, sharey=False, figsize=(4.5, 4))\n",
    "for i, x in enumerate(xs):\n",
    "    irow, icol = ps[i]\n",
    "    irow, icol = int(irow), int(icol)\n",
    "    \n",
    "    axs[irow, icol] = sns.histplot(data=clean_data, x=x,\n",
    "                                   color=cs[0],\n",
    "                                   stat='density', kde=True,\n",
    "                                   label='true', ax=axs[irow, icol],\n",
    "                                   line_kws={'ls': '-', 'lw': 2})\n",
    "    axs[irow, icol] = sns.histplot(data=syn_data, x=x,\n",
    "                                   color=cs[1],\n",
    "                                   stat='density', kde=True,\n",
    "                                   label='synthetic', ax=axs[irow, icol],\n",
    "                                   line_kws={'ls': '--', 'lw': 2})\n",
    "    axs[irow, icol].set(title=ls[i], xlabel='', ylabel='')\n",
    "\n",
    "fig.supxlabel(r'incident power density [W/m$^2$]')\n",
    "fig.supylabel(r'probability density')\n",
    "fig.suptitle('$\\\\mathbf{(a)}$', x=0.08, y=0.92)\n",
    "fig.tight_layout()\n",
    "sns.despine()"
   ]
  },
  {
   "cell_type": "code",
   "execution_count": null,
   "id": "972d032b-1ad3-4deb-bb08-01c6946b0fc2",
   "metadata": {},
   "outputs": [],
   "source": [
    "cs = sns.color_palette('rocket', 2)\n",
    "\n",
    "fig, axs = plt.subplots(2, 1, sharex=True, figsize=(4.5, 4))\n",
    "axs[0] = sns.histplot(data=clean_data, x='pDeltaT * 100 [°C]',\n",
    "                      color=cs[0], stat='density', kde=True, ax=axs[0],\n",
    "                      line_kws={'ls': '-', 'lw': 2})\n",
    "axs[0] = sns.histplot(data=syn_data, x='pDeltaT * 100 [°C]',\n",
    "                      color=cs[1], stat='density', kde=True, ax=axs[0],\n",
    "                      line_kws={'ls': '-', 'lw': 2})\n",
    "axs[0].set(title='probability density function',\n",
    "           xlabel='', ylabel='',\n",
    "           xticks=[0, 60, 120],\n",
    "           xticklabels=[0, 0.6, 1.2],\n",
    "           xlim=[0, 120],\n",
    "           yticks=[0, 0.025, 0.05],\n",
    "           yticklabels=[0, 0.025, 0.05],\n",
    "           ylim=[0, 0.05])\n",
    "axs[1] = sns.kdeplot(data=clean_data, x='pDeltaT * 100 [°C]',\n",
    "                     cumulative=True, color=cs[0], ls='-', lw=2,\n",
    "                     label='true', ax=axs[1])\n",
    "axs[1] = sns.kdeplot(data=syn_data, x='pDeltaT * 100 [°C]',\n",
    "                     cumulative=True, color=cs[1], ls='--', lw=2,\n",
    "                     label='synthetic', ax=axs[1])\n",
    "axs[1].set(title='cumulative density function',\n",
    "           xlabel='', ylabel='',\n",
    "           xticks=[0, 60, 120],\n",
    "           xticklabels=[0, 0.6, 1.2],\n",
    "           xlim=[0, 120],\n",
    "           yticks=[0, 0.5, 1],\n",
    "           yticklabels=[0, 0.5, 1],\n",
    "           ylim=[0, 1])\n",
    "\n",
    "fig.supxlabel(r'$\\Delta T_\\text{max}$ [°C]')\n",
    "fig.supylabel(r'probability density')\n",
    "fig.suptitle('$\\\\mathbf{(b)}$', x=0.08, y=0.92)\n",
    "handles, labels = fig.gca().get_legend_handles_labels()\n",
    "by_label = dict(zip(labels, handles))\n",
    "fig.legend(by_label.values(), by_label.keys(),\n",
    "           title='data',\n",
    "           bbox_to_anchor=(1.25, 0.615))\n",
    "fig.tight_layout()\n",
    "sns.despine()"
   ]
  },
  {
   "cell_type": "markdown",
   "id": "ac8ded3b-e6de-46ee-95d5-602f3a8f8f7e",
   "metadata": {},
   "source": [
    "### Column pair trends"
   ]
  },
  {
   "cell_type": "markdown",
   "id": "3d4fe2ae-96cb-4427-801c-c4e5e05adb8d",
   "metadata": {},
   "source": [
    "For a pair of columns, the column pair trend is computed as a Pearson correlation coefficient (assuming linear dependence) separateljy on real and synthetic data.\n",
    "The correlation similarity reported as quality score is computed as the normalized relative difference between two separate correlation coefficients."
   ]
  },
  {
   "cell_type": "code",
   "execution_count": null,
   "id": "384962d1-d588-4f31-a568-c36979277f43",
   "metadata": {},
   "outputs": [],
   "source": [
    "col_pair_trends = report.get_details(property_name='Column Pair Trends')\n",
    "pDeltaT_pair_trend = col_pair_trends[col_pair_trends['Column 1'] == 'pDeltaT * 100 [°C]']\n",
    "display(pDeltaT_pair_trend)"
   ]
  },
  {
   "cell_type": "code",
   "execution_count": null,
   "id": "97640489-8899-4c79-b0a9-1a20dd09cc53",
   "metadata": {},
   "outputs": [],
   "source": [
    "report.get_visualization(property_name='Column Pair Trends')"
   ]
  },
  {
   "cell_type": "markdown",
   "id": "3fd43239-5cef-4ca9-bdfe-8e68499d3cff",
   "metadata": {},
   "source": [
    "## Regression tasks"
   ]
  },
  {
   "cell_type": "markdown",
   "id": "1b89ddc1-0d71-4eb5-beae-bc3d1fc23cb6",
   "metadata": {},
   "source": [
    "Regression metrics calculate the success of using synthetic data to perform an ML regression task by using linear regression and multi-layer perceptron neural network. It first trains the ML algorithm using the training data (usually synthetic data). The output is an ML model that can predict the value of a given target column. Then, it tests the ML model by making predictions on the testing data (usually real data) and compares against the actual values. It finally returns the Train-Synthetic-Test-Real (TSTR) score by means of the coefficient of determination (R2)."
   ]
  },
  {
   "cell_type": "code",
   "execution_count": null,
   "id": "97c35a51-29a3-46c4-897f-dda88fa28365",
   "metadata": {},
   "outputs": [],
   "source": [
    "from sdmetrics.single_table import LinearRegression"
   ]
  },
  {
   "cell_type": "code",
   "execution_count": null,
   "id": "c47502a0-3368-4c05-81ee-621021542de0",
   "metadata": {},
   "outputs": [],
   "source": [
    "LinearRegression.compute(test_data=clean_data.drop(columns='pDeltaT [°C]'),\n",
    "                         train_data=syn_data,\n",
    "                         target='pDeltaT * 100 [°C]',\n",
    "                         metadata=table_metadata)"
   ]
  },
  {
   "cell_type": "markdown",
   "id": "c0f90ec6-96f8-4033-87ef-39e8757234e9",
   "metadata": {},
   "source": [
    "## Diagnostic report"
   ]
  },
  {
   "cell_type": "markdown",
   "id": "86f47c91-7e31-4661-ba51-a623c04ca8a9",
   "metadata": {},
   "source": [
    "Few basic checks on the synthetic data to give a general sense of the strengths and weakness of the synthetic data generation  basic checks on your synthetic data to give a general sense of the strengths and weakness of your synthetic data model.  basic checks on your synthetic data to give a general sense of the strengths and weakness of your synthetic data model.  basic checks on your synthetic data to give a general sense of the strengths and weakness of your synthetic data model. model. "
   ]
  },
  {
   "cell_type": "code",
   "execution_count": null,
   "id": "9eb53a35-de77-4660-8317-943488d27170",
   "metadata": {},
   "outputs": [],
   "source": [
    "from sdmetrics.reports.single_table import DiagnosticReport"
   ]
  },
  {
   "cell_type": "code",
   "execution_count": null,
   "id": "70ca21ab-8dac-44c9-9e1d-feac6d178aaa",
   "metadata": {},
   "outputs": [],
   "source": [
    "report = DiagnosticReport()\n",
    "report.generate(real_data=clean_data.drop(columns='pDeltaT [°C]'),\n",
    "                synthetic_data=syn_data,\n",
    "                metadata=table_metadata)"
   ]
  },
  {
   "cell_type": "code",
   "execution_count": null,
   "id": "9c26dfcf-deff-4702-8c6c-0fcbe6b11e31",
   "metadata": {},
   "outputs": [],
   "source": [
    "report.get_properties()"
   ]
  },
  {
   "cell_type": "code",
   "execution_count": null,
   "id": "f13c5d39-9ded-4d8c-8cef-0fe919a4d85b",
   "metadata": {},
   "outputs": [],
   "source": [
    "# Does the synthetic data cover the range of possible values?\n",
    "report.get_details(property_name='Coverage')"
   ]
  },
  {
   "cell_type": "code",
   "execution_count": null,
   "id": "fa88ffe7-8863-42f3-9332-28f5a9f6b853",
   "metadata": {},
   "outputs": [],
   "source": [
    "# Is the synthetic data unique or does it copy the real rows?\n",
    "report.get_details(property_name='Synthesis')"
   ]
  },
  {
   "cell_type": "code",
   "execution_count": null,
   "id": "f72a0897-fcd6-4df9-b890-61cf830ec986",
   "metadata": {},
   "outputs": [],
   "source": [
    "# Does the synthetic data respect the boundaries set by the real data?\n",
    "report.get_details(property_name='Boundaries')  # score is the percentage of points within boundaries"
   ]
  }
 ],
 "metadata": {
  "kernelspec": {
   "display_name": "Python 3 (ipykernel)",
   "language": "python",
   "name": "python3"
  },
  "language_info": {
   "codemirror_mode": {
    "name": "ipython",
    "version": 3
   },
   "file_extension": ".py",
   "mimetype": "text/x-python",
   "name": "python",
   "nbconvert_exporter": "python",
   "pygments_lexer": "ipython3",
   "version": "3.9.15"
  }
 },
 "nbformat": 4,
 "nbformat_minor": 5
}
