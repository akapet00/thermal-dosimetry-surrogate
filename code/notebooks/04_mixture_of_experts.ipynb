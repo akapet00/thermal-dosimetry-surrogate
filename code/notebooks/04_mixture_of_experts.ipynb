{
 "cells": [
  {
   "cell_type": "code",
   "execution_count": null,
   "id": "61139925-d9a4-400b-8a13-e30db4d12caa",
   "metadata": {},
   "outputs": [],
   "source": [
    "import os\n",
    "if os.getcwd().split('/')[-1] == 'notebooks':\n",
    "    os.chdir(os.pardir)\n",
    "\n",
    "import matplotlib.pyplot as plt\n",
    "%config InlineBackend.figure_format = 'retina'\n",
    "plt.rcParams.update({'text.usetex': True,\n",
    "                     'text.latex.preamble': r'\\usepackage{amsmath}',\n",
    "                     'font.family': 'serif'})\n",
    "import numpy as np\n",
    "np.random.seed(0)\n",
    "import pandas as pd\n",
    "import seaborn as sns\n",
    "sns.set(style='ticks', font='serif')\n",
    "from sklearn.model_selection import train_test_split\n",
    "from sklearn.preprocessing import StandardScaler\n",
    "from sklearn.metrics import mean_squared_error\n",
    "from smt.applications import MOE\n",
    "from smt.surrogate_models import QP, RMTB, RMTC"
   ]
  },
  {
   "cell_type": "markdown",
   "id": "1965a80d-180d-4a4c-b40c-d971a7272d8d",
   "metadata": {},
   "source": [
    "# Training data"
   ]
  },
  {
   "cell_type": "code",
   "execution_count": null,
   "id": "ea8ea8e9-2d96-4630-b563-00ac5eb227ac",
   "metadata": {},
   "outputs": [],
   "source": [
    "PATH_PROC_DATA = os.path.join('data', 'processed')\n",
    "syn_data = pd.read_csv(os.path.join(PATH_PROC_DATA, 'pDeltaT_synthetic.csv'))\n",
    "\n",
    "features = ['d [mm]', 'f [GHz]', 'psPDtot_1 [W/m2]', 'psPDtot_4 [W/m2]']\n",
    "target = 'pDeltaT * 100 [°C]'\n",
    "X = syn_data[features]\n",
    "y = syn_data[target] / 100\n",
    "\n",
    "X_train, X_test, y_train, y_test = train_test_split(X.to_numpy(),\n",
    "                                                    y.to_numpy()[:, np.newaxis],\n",
    "                                                    test_size=.2)"
   ]
  },
  {
   "cell_type": "markdown",
   "id": "44accadb-b495-40e6-92b4-fbd6faeb2fbe",
   "metadata": {},
   "source": [
    "# Mixture of experts"
   ]
  },
  {
   "cell_type": "code",
   "execution_count": null,
   "id": "79c44886-518e-4525-afda-6a91c298000b",
   "metadata": {},
   "outputs": [],
   "source": [
    "experts = ['QP', 'RMTB', 'RMTC']\n",
    "moe = MOE(n_clusters=2,\n",
    "          smooth_recombination=True,\n",
    "          allow=experts)\n",
    "moe.set_training_values(X_train, y_train)\n",
    "moe.train()"
   ]
  },
  {
   "cell_type": "markdown",
   "id": "8b4055ce-74e8-48c4-9691-9d420b5a11ec",
   "metadata": {},
   "source": [
    "# Evaluating mixture of experts predicting power"
   ]
  },
  {
   "cell_type": "code",
   "execution_count": null,
   "id": "92df013b-2a2e-4135-b11f-6c8f39e46b1a",
   "metadata": {},
   "outputs": [],
   "source": [
    "true_data = pd.read_csv(os.path.join(PATH_PROC_DATA, 'pDeltaT_clean.csv'))\n",
    "\n",
    "X_eval = true_data[features].to_numpy()\n",
    "y_eval = true_data[target].to_numpy() / 100\n",
    "\n",
    "y_pred = moe.predict_values(X_eval)\n",
    "rmse = np.sqrt(mean_squared_error(y_eval, y_pred))\n",
    "\n",
    "y_resid = (y_eval - y_pred.ravel())\n",
    "ae = np.abs(y_resid)\n",
    "mae = np.mean(ae)"
   ]
  },
  {
   "cell_type": "code",
   "execution_count": null,
   "id": "4c54193a-58fb-44dc-98e7-a8df7894a069",
   "metadata": {},
   "outputs": [],
   "source": [
    "cs = sns.color_palette('rocket', 2)\n",
    "\n",
    "fig, ax = plt.subplots(1, 1, figsize=(4.5, 4))\n",
    "ax = sns.histplot(x=ae,\n",
    "                  color=cs[0], stat='density', kde=True, ax=ax,\n",
    "                  line_kws={'lw': 2})\n",
    "ax.vlines(mae, *ax.get_ybound(), colors=cs[1], ls='--', lw=2,\n",
    "          label='mean absolute error')\n",
    "ax.legend()\n",
    "ax.set(xlabel='', ylabel='',\n",
    "       xticks=[0, mae, 0.25, 0.5],\n",
    "       xticklabels=[0, round(mae, 2), 0.25, 0.5],\n",
    "       xlim=[0, 0.5],\n",
    "       yticks=[0, 4, 8],\n",
    "       yticklabels=[0, 4, 8],\n",
    "       ylim=[0, 8]\n",
    "      )\n",
    "\n",
    "fig.supxlabel('absolute error [°C]')\n",
    "fig.supylabel('probability density')\n",
    "fig.tight_layout()\n",
    "sns.despine()\n",
    "\n",
    "# fig_name = os.path.join('figures', '04_1_ape_dist.png')\n",
    "# fig.savefig(fig_name, dpi=200, bbox_inches='tight')"
   ]
  },
  {
   "cell_type": "code",
   "execution_count": null,
   "id": "25b3c2fc-9f2c-49fb-8944-accf1b161b83",
   "metadata": {},
   "outputs": [],
   "source": []
  }
 ],
 "metadata": {
  "kernelspec": {
   "display_name": "Python 3 (ipykernel)",
   "language": "python",
   "name": "python3"
  },
  "language_info": {
   "codemirror_mode": {
    "name": "ipython",
    "version": 3
   },
   "file_extension": ".py",
   "mimetype": "text/x-python",
   "name": "python",
   "nbconvert_exporter": "python",
   "pygments_lexer": "ipython3",
   "version": "3.9.15"
  }
 },
 "nbformat": 4,
 "nbformat_minor": 5
}
