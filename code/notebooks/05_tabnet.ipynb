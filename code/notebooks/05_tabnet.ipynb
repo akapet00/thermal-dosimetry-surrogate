{
 "cells": [
  {
   "cell_type": "markdown",
   "id": "7f4f5fa6-2d3a-4276-a1d9-24b648c2c6cd",
   "metadata": {},
   "source": [
    "WIP"
   ]
  },
  {
   "cell_type": "code",
   "execution_count": null,
   "id": "0a15ebd9-41f8-42e2-9a10-5bb616b735d8",
   "metadata": {},
   "outputs": [],
   "source": [
    "import os\n",
    "if os.getcwd().split('/')[-1] == 'notebooks':\n",
    "    os.chdir(os.pardir)\n",
    "\n",
    "import matplotlib.pyplot as plt\n",
    "%config InlineBackend.figure_format = 'retina'\n",
    "plt.rcParams.update({'text.usetex': True,\n",
    "                     'text.latex.preamble': r'\\usepackage{amsmath}',\n",
    "                     'font.family': 'serif'})\n",
    "import numpy as np\n",
    "#np.random.seed(0)\n",
    "import pandas as pd\n",
    "from pytorch_tabnet.tab_model import TabNetRegressor\n",
    "from pytorch_tabnet.augmentations import RegressionSMOTE\n",
    "import seaborn as sns\n",
    "sns.set(style='ticks', font='serif')\n",
    "from sklearn.model_selection import train_test_split\n",
    "from sklearn.metrics import mean_squared_error"
   ]
  },
  {
   "cell_type": "code",
   "execution_count": null,
   "id": "bdda4b24-1158-4650-8644-d3d92e716dd1",
   "metadata": {},
   "outputs": [],
   "source": [
    "PATH_PROC_DATA = os.path.join('data', 'processed')\n",
    "true_data = pd.read_csv(os.path.join(PATH_PROC_DATA, 'pDeltaT_clean.csv'))\n",
    "syn_data = pd.read_csv(os.path.join(PATH_PROC_DATA, 'pDeltaT_synthetic.csv'))\n",
    "\n",
    "features = ['d [mm]', 'f [GHz]', 'psPDtot_1 [W/m2]', 'psPDtot_4 [W/m2]']\n",
    "target = 'pDeltaT * 100 [°C]'\n",
    "X = syn_data[features].to_numpy()\n",
    "y = syn_data[target].to_numpy() / 100\n",
    "X_train, X_test, y_train, y_test = train_test_split(X,\n",
    "                                                    y[:, np.newaxis],\n",
    "                                                    test_size=.2)\n",
    "X_eval = true_data[features].to_numpy()\n",
    "y_eval = true_data[target].to_numpy() / 100"
   ]
  },
  {
   "cell_type": "code",
   "execution_count": null,
   "id": "15a45f05-dc9e-4319-a282-2a68c54164c5",
   "metadata": {},
   "outputs": [],
   "source": [
    "reg = TabNetRegressor(n_d=32,\n",
    "                      n_a=32,\n",
    "                      n_steps=3,\n",
    "                      gamma=1.3,\n",
    "                      n_independent=3,\n",
    "                      n_shared=3,\n",
    "                      momentum=0.02,\n",
    "                      lambda_sparse=0.001,\n",
    "                      clip_value=1,\n",
    "                      verbose=0,\n",
    "                      mask_type='sparsemax')"
   ]
  },
  {
   "cell_type": "code",
   "execution_count": null,
   "id": "817ed9c2-4f91-4980-82a3-4e22d099ca87",
   "metadata": {},
   "outputs": [],
   "source": [
    "aug = RegressionSMOTE(p=0.3)"
   ]
  },
  {
   "cell_type": "code",
   "execution_count": null,
   "id": "5d46e213-4368-43aa-b249-00d14d339ae5",
   "metadata": {},
   "outputs": [],
   "source": [
    "reg.fit(X_train=X_train, y_train=y_train,\n",
    "        eval_set=[(X_test, y_test)],\n",
    "        eval_name=['test'],\n",
    "        eval_metric=['mae', 'mse', 'rmse', 'rmsle'],\n",
    "        max_epochs=10000,\n",
    "        patience=1000,\n",
    "        batch_size=64,\n",
    "        virtual_batch_size=64,\n",
    "        num_workers=0,\n",
    "        drop_last=False,\n",
    "        augmentations=aug) "
   ]
  },
  {
   "cell_type": "code",
   "execution_count": null,
   "id": "1b3af957-bdf6-4d4f-b7b6-cb1ccc872a67",
   "metadata": {},
   "outputs": [],
   "source": [
    "y_pred = reg.predict(X_eval)\n",
    "rmse = np.sqrt(mean_squared_error(y_eval, y_pred.ravel()))\n",
    "\n",
    "y_resid = (y_eval - y_pred.ravel())\n",
    "ae = np.abs(y_resid)\n",
    "mae = np.mean(ae)\n",
    "mae"
   ]
  },
  {
   "cell_type": "code",
   "execution_count": null,
   "id": "5714c4a8-30d2-4692-8587-d80e64488a2a",
   "metadata": {},
   "outputs": [],
   "source": [
    "cs = sns.color_palette('rocket', 2)\n",
    "\n",
    "fig, ax = plt.subplots(1, 1, figsize=(4.5, 4))\n",
    "ax = sns.histplot(x=ae,\n",
    "                  color=cs[0], stat='density', kde=True, ax=ax,\n",
    "                  line_kws={'lw': 2})\n",
    "ax.vlines(mae, *ax.get_ybound(), colors=cs[1], ls='--', lw=2,\n",
    "          label='mean absolute error')\n",
    "ax.legend()\n",
    "ax.set(xlabel='', ylabel='',\n",
    "       xticks=[0, mae, 0.25, 0.5],\n",
    "       xticklabels=[0, round(mae, 2), 0.25, 0.5],\n",
    "       #xlim=[0, 0.5],\n",
    "       #yticks=[0, 7, 14],\n",
    "       #yticklabels=[0, 7, 14],\n",
    "       #ylim=[0, 14]\n",
    "      )\n",
    "\n",
    "fig.supxlabel('absolute error [°C]')\n",
    "fig.supylabel('probability density')\n",
    "fig.tight_layout()\n",
    "sns.despine()\n",
    "\n",
    "# fig_name = os.path.join('figures', '03_2_ape_dist.png')\n",
    "# fig.savefig(fig_name, dpi=200, bbox_inches='tight')"
   ]
  },
  {
   "cell_type": "code",
   "execution_count": null,
   "id": "acd69320-ae25-4a07-a5e7-c124f97e03cf",
   "metadata": {},
   "outputs": [],
   "source": []
  }
 ],
 "metadata": {
  "kernelspec": {
   "display_name": "Python 3 (ipykernel)",
   "language": "python",
   "name": "python3"
  },
  "language_info": {
   "codemirror_mode": {
    "name": "ipython",
    "version": 3
   },
   "file_extension": ".py",
   "mimetype": "text/x-python",
   "name": "python",
   "nbconvert_exporter": "python",
   "pygments_lexer": "ipython3",
   "version": "3.9.15"
  }
 },
 "nbformat": 4,
 "nbformat_minor": 5
}
