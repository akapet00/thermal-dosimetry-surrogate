{
 "cells": [
  {
   "cell_type": "markdown",
   "id": "7f4f5fa6-2d3a-4276-a1d9-24b648c2c6cd",
   "metadata": {},
   "source": [
    "# TabNet"
   ]
  },
  {
   "cell_type": "code",
   "execution_count": null,
   "id": "0a15ebd9-41f8-42e2-9a10-5bb616b735d8",
   "metadata": {},
   "outputs": [],
   "source": [
    "import os\n",
    "if os.getcwd().split('/')[-1] == 'notebooks':\n",
    "    os.chdir(os.pardir)\n",
    "\n",
    "import matplotlib.pyplot as plt\n",
    "%config InlineBackend.figure_format = 'retina'\n",
    "plt.rcParams.update({'text.usetex': True,\n",
    "                     'text.latex.preamble': r'\\usepackage{amsmath}',\n",
    "                     'font.family': 'serif'})\n",
    "import numpy as np\n",
    "#np.random.seed(0)\n",
    "import pandas as pd\n",
    "from pytorch_tabnet.tab_model import TabNetRegressor\n",
    "from pytorch_tabnet.augmentations import RegressionSMOTE\n",
    "import seaborn as sns\n",
    "sns.set(style='ticks', font='serif')\n",
    "from sklearn.model_selection import train_test_split\n",
    "from sklearn.metrics import mean_squared_error\n",
    "from timeit import default_timer as timer\n",
    "import torch"
   ]
  },
  {
   "cell_type": "markdown",
   "id": "fc047e5b-127a-4825-8a4c-a64aa6c8941e",
   "metadata": {},
   "source": [
    "## Data"
   ]
  },
  {
   "cell_type": "code",
   "execution_count": null,
   "id": "bdda4b24-1158-4650-8644-d3d92e716dd1",
   "metadata": {},
   "outputs": [],
   "source": [
    "PATH_PROC_DATA = os.path.join('data', 'processed')\n",
    "true_data = pd.read_csv(os.path.join(PATH_PROC_DATA, 'pDeltaT_clean.csv'))\n",
    "syn_data = pd.read_csv(os.path.join(PATH_PROC_DATA, 'pDeltaT_synthetic.csv'))\n",
    "\n",
    "features = ['d [mm]', 'f [GHz]', 'psPDtot_1 [W/m2]', 'psPDtot_4 [W/m2]']\n",
    "target = 'pDeltaT * 100 [°C]'\n",
    "X = syn_data[features].to_numpy()\n",
    "y = syn_data[target].to_numpy() / 100\n",
    "\n",
    "# train and validation set - synthetic data\n",
    "X_train, X_valid, y_train, y_valid = train_test_split(X,\n",
    "                                                      y[:, np.newaxis],\n",
    "                                                      test_size=.2)\n",
    "\n",
    "# test data - original data\n",
    "X_test = true_data[features].to_numpy()\n",
    "y_test = true_data[target].to_numpy() / 100"
   ]
  },
  {
   "cell_type": "markdown",
   "id": "7f579067-9cee-4d17-9480-32243940b9f2",
   "metadata": {},
   "source": [
    "## Model"
   ]
  },
  {
   "cell_type": "code",
   "execution_count": null,
   "id": "15a45f05-dc9e-4319-a282-2a68c54164c5",
   "metadata": {},
   "outputs": [],
   "source": [
    "reg = TabNetRegressor(n_d=32,\n",
    "                      n_a=32,\n",
    "                      n_steps=3,\n",
    "                      gamma=1.3,\n",
    "                      n_independent=3,\n",
    "                      n_shared=3,\n",
    "                      momentum=0.02,\n",
    "                      lambda_sparse=0.001,\n",
    "                      clip_value=1,\n",
    "                      verbose=0,\n",
    "                      optimizer_fn=torch.optim.Adam,\n",
    "                      optimizer_params={'lr': 1e-3},\n",
    "                      scheduler_fn=torch.optim.lr_scheduler.StepLR,\n",
    "                      scheduler_params={'step_size': 500, 'gamma': 0.5},\n",
    "                      mask_type='sparsemax')"
   ]
  },
  {
   "cell_type": "code",
   "execution_count": null,
   "id": "324b2074-9e65-43cc-b21e-e252420bd79a",
   "metadata": {},
   "outputs": [],
   "source": [
    "def train(save):\n",
    "    aug = RegressionSMOTE(p=0.8)\n",
    "    start = timer()\n",
    "    reg.fit(X_train=X_train, y_train=y_train,\n",
    "            eval_set=[(X_valid, y_valid)],\n",
    "            eval_name=['test'],\n",
    "            eval_metric=['mae', 'mse', 'rmse', 'rmsle'],\n",
    "            max_epochs=500000,\n",
    "            patience=1000,\n",
    "            batch_size=128,\n",
    "            virtual_batch_size=64,\n",
    "            num_workers=4,\n",
    "            drop_last=False,\n",
    "            augmentations=aug)\n",
    "    end = timer()\n",
    "    elapsed = start - end\n",
    "    print(f'Training finished in {elapsed:.2f} s.')\n",
    "    save_path = reg.save_model(os.path.join('models', '05_tabnet'))\n",
    "    print(f'Model saved ({save_path}).')\n",
    "    return reg"
   ]
  },
  {
   "cell_type": "code",
   "execution_count": null,
   "id": "e9981657-b2a8-4d44-9a6f-487417436b0a",
   "metadata": {},
   "outputs": [],
   "source": [
    "force_train = False\n",
    "save = False\n",
    "\n",
    "if force_train:\n",
    "    print('Training the neural network...')\n",
    "    reg = train(save)\n",
    "else:\n",
    "    try:\n",
    "        print('Trying to restore the neural network...')\n",
    "        reg.load_model(os.path.join('models', '05_tabnet.zip'))\n",
    "        print('Restoring successful.')\n",
    "    except Exception as e:\n",
    "        print(e)\n",
    "        print('Restoring failed. Training the neural network...')\n",
    "        reg = train(save)"
   ]
  },
  {
   "cell_type": "markdown",
   "id": "f4e4c909-2ce9-4934-a779-717b4b2ec69a",
   "metadata": {},
   "source": [
    "## Evaluating the predictive power"
   ]
  },
  {
   "cell_type": "code",
   "execution_count": null,
   "id": "1b3af957-bdf6-4d4f-b7b6-cb1ccc872a67",
   "metadata": {},
   "outputs": [],
   "source": [
    "y_pred = reg.predict(X_test)\n",
    "rmse = np.sqrt(mean_squared_error(y_test, y_pred.ravel()))\n",
    "\n",
    "y_resid = (y_test - y_pred.ravel())\n",
    "ae = np.abs(y_resid)\n",
    "mae = np.mean(ae)\n",
    "mae"
   ]
  },
  {
   "cell_type": "code",
   "execution_count": null,
   "id": "5714c4a8-30d2-4692-8587-d80e64488a2a",
   "metadata": {},
   "outputs": [],
   "source": [
    "cs = sns.color_palette('rocket', 2)\n",
    "\n",
    "fig, ax = plt.subplots(1, 1, figsize=(4.5, 4))\n",
    "ax = sns.histplot(x=ae,\n",
    "                  color=cs[0], stat='density', kde=True, ax=ax,\n",
    "                  line_kws={'lw': 2})\n",
    "ax.vlines(mae, *ax.get_ybound(), colors=cs[1], ls='--', lw=2,\n",
    "          label='mean absolute error')\n",
    "ax.legend()\n",
    "ax.set(xlabel='', ylabel='',\n",
    "       xticks=[0, mae, 0.25, 0.5],\n",
    "       xticklabels=[0, round(mae, 2), 0.25, 0.5],\n",
    "       xlim=[0, 0.5],\n",
    "       yticks=[0, 11, 22],\n",
    "       yticklabels=[0, 11, 22],\n",
    "       ylim=[0, 22]\n",
    "      )\n",
    "\n",
    "fig.supxlabel('absolute error [°C]')\n",
    "fig.supylabel('probability density')\n",
    "fig.tight_layout()\n",
    "sns.despine()"
   ]
  },
  {
   "cell_type": "code",
   "execution_count": null,
   "id": "c13e57c4-3ddc-494a-ad35-9b99cc1355ca",
   "metadata": {},
   "outputs": [],
   "source": [
    "PATH_ERROR_DATA = os.path.join('data', 'models')\n",
    "error_data = os.path.join(PATH_ERROR_DATA, 'tabnet.npy')\n",
    "save = False\n",
    "if save:\n",
    "    with open(error_data, 'wb') as f:\n",
    "        np.save(f, ae)"
   ]
  },
  {
   "cell_type": "code",
   "execution_count": null,
   "id": "e8f9f087-0f34-4d6e-8fbc-6ab03a3a68b2",
   "metadata": {},
   "outputs": [],
   "source": []
  }
 ],
 "metadata": {
  "kernelspec": {
   "display_name": "Python 3 (ipykernel)",
   "language": "python",
   "name": "python3"
  },
  "language_info": {
   "codemirror_mode": {
    "name": "ipython",
    "version": 3
   },
   "file_extension": ".py",
   "mimetype": "text/x-python",
   "name": "python",
   "nbconvert_exporter": "python",
   "pygments_lexer": "ipython3",
   "version": "3.9.15"
  }
 },
 "nbformat": 4,
 "nbformat_minor": 5
}
