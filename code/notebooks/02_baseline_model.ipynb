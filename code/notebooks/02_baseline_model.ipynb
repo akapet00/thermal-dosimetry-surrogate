{
 "cells": [
  {
   "cell_type": "markdown",
   "id": "1a61083b-e528-47ca-842e-4e1483e0adde",
   "metadata": {},
   "source": [
    "# Baseline model"
   ]
  },
  {
   "cell_type": "code",
   "execution_count": null,
   "id": "224cb503-95ab-4a4e-851d-a8cc1452571e",
   "metadata": {},
   "outputs": [],
   "source": [
    "import os\n",
    "\n",
    "import matplotlib.pyplot as plt\n",
    "%config InlineBackend.figure_format = 'retina'\n",
    "plt.rcParams.update({'text.usetex': True,\n",
    "                     'text.latex.preamble': r'\\usepackage{amsmath}',\n",
    "                     'font.family': 'serif'})\n",
    "import numpy as np\n",
    "#np.random.seed(0)\n",
    "import pandas as pd\n",
    "import seaborn as sns\n",
    "sns.set(style='ticks', font='serif')\n",
    "from sklearn.model_selection import train_test_split\n",
    "from sklearn.metrics import mean_squared_error, r2_score"
   ]
  },
  {
   "cell_type": "code",
   "execution_count": null,
   "id": "0754fa9f-6ee6-48ca-bef2-bafab2d42403",
   "metadata": {},
   "outputs": [],
   "source": [
    "PATH_PROC_DATA = os.path.join(os.pardir, 'data', 'processed')\n",
    "syn_data = pd.read_csv(os.path.join(PATH_PROC_DATA, 'pDeltaT_synthetic.csv'))\n",
    "features = syn_data[syn_data.columns[:-1]]\n",
    "target = syn_data[syn_data.columns[-1]]\n",
    "X_train, X_test, y_train, y_test = train_test_split(features, target,\n",
    "                                                    test_size=.2)"
   ]
  },
  {
   "cell_type": "markdown",
   "id": "78c8c95b-a2d3-41f6-8237-f7cef5a3075c",
   "metadata": {},
   "source": [
    "Rationale for choosing the baseline model:\n",
    "1. Shwartz-Ziv, R. and Armon, A. Tabular data: Deep learning is not all you need. arXiv:2106.03253, 2021\n",
    "2. Grinsztajn, L., Oyallon, E., and Varoquaux, G. Why do tree-based models still outperform deep learning on tabular data? arXiv:2207.08815, 2022"
   ]
  },
  {
   "cell_type": "code",
   "execution_count": null,
   "id": "b605f13b-9fc8-4853-a0eb-98fe769a38be",
   "metadata": {},
   "outputs": [],
   "source": []
  }
 ],
 "metadata": {
  "kernelspec": {
   "display_name": "Python 3 (ipykernel)",
   "language": "python",
   "name": "python3"
  },
  "language_info": {
   "codemirror_mode": {
    "name": "ipython",
    "version": 3
   },
   "file_extension": ".py",
   "mimetype": "text/x-python",
   "name": "python",
   "nbconvert_exporter": "python",
   "pygments_lexer": "ipython3",
   "version": "3.9.15"
  }
 },
 "nbformat": 4,
 "nbformat_minor": 5
}
