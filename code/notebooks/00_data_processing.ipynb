{
 "cells": [
  {
   "cell_type": "markdown",
   "id": "f972d2f0-74c6-40ef-998e-c614ebd19c96",
   "metadata": {},
   "source": [
    "## Data loading"
   ]
  },
  {
   "cell_type": "code",
   "execution_count": null,
   "id": "12a1290e-769a-4b32-bb41-e744bfdebdc8",
   "metadata": {},
   "outputs": [],
   "source": [
    "import os\n",
    "\n",
    "import matplotlib.pyplot as plt\n",
    "import pandas as pd\n",
    "import seaborn as sns\n",
    "plt.rcParams.update({'text.usetex': True,\n",
    "                     'text.latex.preamble': r'\\usepackage{amsmath}',\n",
    "                     'font.family': 'serif'})\n",
    "sns.set(style='ticks', font='serif')"
   ]
  },
  {
   "cell_type": "code",
   "execution_count": null,
   "id": "1e360162-1a14-4128-9450-2afc5db00cfe",
   "metadata": {},
   "outputs": [],
   "source": [
    "PATH_RAW_DATA = os.path.join(os.pardir, 'data', 'raw')\n",
    "PATH_SYN_DATA = os.path.join(os.pardir, 'data', 'processed')\n",
    "data = pd.read_excel(os.path.join(PATH_RAW_DATA, 'pDeltaT.xlsx'))\n",
    "clean_data = data.drop(columns='organization')\n",
    "clean_data.loc[:, 'pDeltaT * 100 [°C]'] = clean_data['pDeltaT [°C]'].values * 100"
   ]
  },
  {
   "cell_type": "code",
   "execution_count": null,
   "id": "a4ff82d0-9db3-4cd3-b869-0aad07d35c8b",
   "metadata": {},
   "outputs": [],
   "source": [
    "clean_data"
   ]
  },
  {
   "cell_type": "code",
   "execution_count": null,
   "id": "807c10fc-a27f-4420-a3ad-345f7167ab54",
   "metadata": {},
   "outputs": [],
   "source": [
    "clean_data.describe()"
   ]
  },
  {
   "cell_type": "code",
   "execution_count": null,
   "id": "3c41b987-c140-43f3-8277-54ab63d0f724",
   "metadata": {},
   "outputs": [],
   "source": [
    "%config InlineBackend.figure_format = 'retina'\n",
    "\n",
    "cs = sns.color_palette('rocket', 4)\n",
    "ms = ['o', 'd', 's', '^']\n",
    "fs = clean_data['f [GHz]'].unique()\n",
    "ps = ['00', '01', '10', '11']\n",
    "\n",
    "fig, axs = plt.subplots(2, 2, sharex=False, sharey=True, figsize=(6, 4))\n",
    "for i, f in enumerate(fs):\n",
    "    irow, icol = ps[i]\n",
    "    psPDn_4 = clean_data[clean_data['f [GHz]'] == f]['psPDn_4 [W/m2]']\n",
    "    psPDtot_4 = clean_data[clean_data['f [GHz]'] == f]['psPDtot_4 [W/m2]']\n",
    "    psPDn_1 = clean_data[clean_data['f [GHz]'] == f]['psPDn_1 [W/m2]']\n",
    "    psPDtot_1 = clean_data[clean_data['f [GHz]'] == f]['psPDtot_1 [W/m2]']\n",
    "    d = clean_data[clean_data['f [GHz]'] == f]['d [mm]']\n",
    "    axs[int(irow), int(icol)].plot(d, psPDn_4, ms[0], c=cs[0], label=r'$psPD_{\\text{n}, 4}$')\n",
    "    axs[int(irow), int(icol)].plot(d, psPDtot_4, ms[1], c=cs[1], label=r'$psPD_{\\text{tot}, 4}$')\n",
    "    axs[int(irow), int(icol)].plot(d, psPDn_1, ms[2], c=cs[2], label=r'$psPD_{\\text{n}, 1}$')\n",
    "    axs[int(irow), int(icol)].plot(d, psPDtot_1, ms[3], c=cs[3], label=r'$psPD_{\\text{tot}, 1}$')\n",
    "    axs[int(irow), int(icol)].set(xscale='log',\n",
    "                                  xticks=clean_data['d [mm]'].unique(),\n",
    "                                  xticklabels=clean_data['d [mm]'].unique(),\n",
    "                                  yticks=[0, 40, 80],\n",
    "                                  yticklabels=[0, 40, 80],\n",
    "                                  ylim=[-5, 85])\n",
    "    axs[int(irow), int(icol)].set_title(f'$f = {f}$ GHz')\n",
    "fig.supxlabel('$d$ [mm]')\n",
    "fig.supylabel(r'incident power density [W/m$^2$]')\n",
    "fig.suptitle('$\\\\mathbf{(a)}$', x=0.08, y=0.92)\n",
    "handles, labels = fig.gca().get_legend_handles_labels()\n",
    "by_label = dict(zip(labels, handles))\n",
    "fig.legend(by_label.values(), by_label.keys(), bbox_to_anchor=(1.25, 0.625))\n",
    "fig.tight_layout()\n",
    "sns.despine()"
   ]
  },
  {
   "cell_type": "code",
   "execution_count": null,
   "id": "083364df-546b-430a-be11-1a05e6fb89a6",
   "metadata": {},
   "outputs": [],
   "source": [
    "%config InlineBackend.figure_format = 'retina'\n",
    "\n",
    "cs = sns.color_palette('rocket', 1)\n",
    "fs = clean_data['f [GHz]'].unique()\n",
    "ps = ['00', '01', '10', '11']\n",
    "\n",
    "fig, axs = plt.subplots(2, 2, sharex=False, sharey=True, figsize=(6, 4))\n",
    "for i, f in enumerate(fs):\n",
    "    irow, icol = ps[i]\n",
    "    pDeltaT = clean_data[clean_data['f [GHz]'] == f]['pDeltaT [°C]']\n",
    "    d = clean_data[clean_data['f [GHz]'] == f]['d [mm]']\n",
    "    axs[int(irow), int(icol)].plot(d, pDeltaT, 'o', c=cs[0])                                        \n",
    "    axs[int(irow), int(icol)].set(xscale='log',\n",
    "               xticks=clean_data['d [mm]'].unique(),\n",
    "               xticklabels=clean_data['d [mm]'].unique(),\n",
    "               yticks=[0, 0.7, 1.4], yticklabels=[0, 0.7, 1.4], ylim=[-0.1, 1.5])\n",
    "    axs[int(irow), int(icol)].set_title(f'$f = {f}$ GHz')\n",
    "fig.supxlabel('$d$ [mm]')\n",
    "fig.supylabel(r'$\\Delta T_{max}$ [°C]')\n",
    "fig.suptitle('$\\\\mathbf{(b)}$', x=0.08, y=0.92)\n",
    "fig.tight_layout()\n",
    "sns.despine()"
   ]
  },
  {
   "cell_type": "code",
   "execution_count": null,
   "id": "d892512b-72cd-4b47-98bf-01775b4617f8",
   "metadata": {},
   "outputs": [],
   "source": [
    "%config InlineBackend.figure_format = 'retina'\n",
    "\n",
    "cs = sns.color_palette('rocket', 4)\n",
    "ms = ['o', 'd', 's', '^']\n",
    "As = [4, 4, 1, 1]\n",
    "fs = clean_data['f [GHz]'].unique()\n",
    "\n",
    "fig, axs = plt.subplots(2, 2, sharex=False, sharey=True, figsize=(6, 4))\n",
    "for i, f in enumerate(fs):\n",
    "    axs[0, 0] = sns.regplot(clean_data[clean_data['f [GHz]'] == f],\n",
    "                            x='psPDn_4 [W/m2]', y='pDeltaT [°C]', label=f'${f}$',\n",
    "                            marker=ms[i], color=cs[i], line_kws={'linewidth': 1.5}, ax=axs[0, 0])\n",
    "    axs[0, 0].set(title=r'$psPD_{\\text{n}, 4}$ [W/m$^2$]', xlabel='', ylabel='',\n",
    "                  xticks=[0, 6, 12], xticklabels=[0, 6, 12], xlim=[-0.5, 12.5],\n",
    "                  yticks=[0, 0.7, 1.4], yticklabels=[0, 0.7, 1.4], ylim=[-0.1, 1.5])\n",
    "\n",
    "    axs[0, 1] = sns.regplot(clean_data[clean_data['f [GHz]'] == f],\n",
    "                            x='psPDtot_4 [W/m2]', y='pDeltaT [°C]', label=f'${f}$',\n",
    "                            marker=ms[i], color=cs[i], line_kws={'linewidth': 1.5}, ax=axs[0, 1])\n",
    "    axs[0, 1].set(title=r'$psPD_{\\text{tot}, 4}$ [W/m$^2$]', xlabel='', ylabel='',\n",
    "                  xticks=[0, 16, 32], xticklabels=[0, 16, 32], xlim=[-1, 33],\n",
    "                  yticks=[0, 0.7, 1.4], yticklabels=[0, 0.7, 1.4], ylim=[-0.1, 1.5])\n",
    "\n",
    "    axs[1, 0] = sns.regplot(clean_data[clean_data['f [GHz]'] == f],\n",
    "                            x='psPDn_1 [W/m2]', y='pDeltaT [°C]', label=f'${f}$',\n",
    "                            marker=ms[i], color=cs[i], line_kws={'linewidth': 1.5}, ax=axs[1, 0])\n",
    "    axs[1, 0].set(title=r'$psPD_{\\text{n}, 1}$ [W/m$^2$]', xlabel='', ylabel='',\n",
    "                  xticks=[0, 20, 40], xticklabels=[0, 20, 40], xlim=[-2.5, 42.5],\n",
    "                  yticks=[0, 0.7, 1.4], yticklabels=[0, 0.7, 1.4], ylim=[-0.1, 1.5])\n",
    "\n",
    "    axs[1, 1] = sns.regplot(clean_data[clean_data['f [GHz]'] == f],\n",
    "                            x='psPDtot_1 [W/m2]', y='pDeltaT [°C]', label=f'${f}$',\n",
    "                            marker=ms[i], color=cs[i], line_kws={'linewidth': 1.5}, ax=axs[1, 1])\n",
    "    axs[1, 1].set(title=r'$psPD_{\\text{tot}, 1}$ [W/m$^2$]', xlabel='', ylabel='',\n",
    "                  xticks=[0, 35, 70], xticklabels=[0, 35, 70], xlim=[-3, 74],\n",
    "                  yticks=[0, 0.7, 1.4], yticklabels=[0, 0.7, 1.4], ylim=[-0.1, 1.5])\n",
    "    \n",
    "fig.supxlabel('incident power density [W/m$^2$]')\n",
    "fig.supylabel(r'$\\Delta T_{max}$ [°C]')\n",
    "fig.suptitle('$\\\\mathbf{(a)}$', x=0.08, y=0.92)\n",
    "handles, labels = fig.gca().get_legend_handles_labels()\n",
    "by_label = dict(zip(labels, handles))\n",
    "fig.legend(by_label.values(), by_label.keys(), title='$f$ [GHz]', bbox_to_anchor=(1.15, 0.675))\n",
    "fig.tight_layout()\n",
    "sns.despine()"
   ]
  },
  {
   "cell_type": "code",
   "execution_count": null,
   "id": "c81a27a3-58e9-4c3f-ad1f-c7e034121f0d",
   "metadata": {},
   "outputs": [],
   "source": [
    "%config InlineBackend.figure_format = 'retina'\n",
    "\n",
    "cs = sns.color_palette('rocket', 2)\n",
    "ms = ['o', 'd', 's', '^']\n",
    "As = [4, 4, 1, 1]\n",
    "fs = clean_data['f [GHz]'].unique()\n",
    "ps = ['00', '01', '10', '11']\n",
    "\n",
    "fig, axs = plt.subplots(2, 2, sharex=False, sharey=True, figsize=(6, 4))\n",
    "for i, f in enumerate(fs):\n",
    "    irow, icol = ps[i]\n",
    "    if f <= 30:  # A = 4 cm2\n",
    "        psPDn = clean_data[clean_data['f [GHz]'] == f]['psPDn_4 [W/m2]']\n",
    "        psPDtot = clean_data[clean_data['f [GHz]'] == f]['psPDtot_4 [W/m2]']\n",
    "    else:  # A = 1 cm2\n",
    "        psPDn = clean_data[clean_data['f [GHz]'] == f]['psPDn_1 [W/m2]']\n",
    "        psPDtot = clean_data[clean_data['f [GHz]'] == f]['psPDtot_1 [W/m2]']\n",
    "    pDeltaT = clean_data[clean_data['f [GHz]'] == f]['pDeltaT [°C]']\n",
    "    HFn = pDeltaT / psPDn\n",
    "    HFtot = pDeltaT / psPDtot\n",
    "    d = clean_data[clean_data['f [GHz]'] == f]['d [mm]']\n",
    "    axs[int(irow), int(icol)].plot(d, HFn, ms[0], c=cs[0], label=r'$HF_{\\text{n}}$')\n",
    "    axs[int(irow), int(icol)].plot(d, HFtot, ms[1], c=cs[1], label=r'$HF_{\\text{tot}}$')\n",
    "    axs[int(irow), int(icol)].set(xscale='log',\n",
    "                                  xticks=clean_data['d [mm]'].unique(),\n",
    "                                  xticklabels=clean_data['d [mm]'].unique())\n",
    "    if f <= 30:\n",
    "        axs[int(irow), int(icol)].set(yticks=[0, 0.05, 0.1],\n",
    "                                      yticklabels=[0, 0.05, 0.1],\n",
    "                                      ylim=[-0.01, 0.11])\n",
    "    axs[int(irow), int(icol)].set_title(f'$f = {f}$ GHz \\t $(A = {As[i]}$ cm$^2)$')\n",
    "fig.supxlabel('$d$ [mm]')\n",
    "fig.supylabel(r'heating factor [W/m$^2$]')\n",
    "fig.suptitle('$\\\\mathbf{(b)}$', x=0.08, y=0.92)\n",
    "handles, labels = fig.gca().get_legend_handles_labels()\n",
    "by_label = dict(zip(labels, handles))\n",
    "fig.legend(by_label.values(), by_label.keys(), bbox_to_anchor=(1.2, 0.575))\n",
    "fig.tight_layout()\n",
    "sns.despine()"
   ]
  },
  {
   "cell_type": "markdown",
   "id": "1f392460-a5de-457f-b05d-10984c0e1394",
   "metadata": {},
   "source": [
    "## Generating synthetic data"
   ]
  },
  {
   "cell_type": "code",
   "execution_count": null,
   "id": "81f97645-7de6-4f4a-9d04-074a7ae1700d",
   "metadata": {},
   "outputs": [],
   "source": [
    "from sdv.constraints import Inequality, ScalarRange\n",
    "from sdv.tabular import GaussianCopula, CTGAN\n",
    "from copulas.univariate import UniformUnivariate, GaussianKDE"
   ]
  },
  {
   "cell_type": "code",
   "execution_count": null,
   "id": "3fbed25f-a90f-4c36-9adf-272af2ca8a2b",
   "metadata": {},
   "outputs": [],
   "source": [
    "n_tot_rel_1 = Inequality(low_column_name='psPDn_1 [W/m2]',\n",
    "                         high_column_name='psPDtot_1 [W/m2]')\n",
    "n_tot_rel_4 = Inequality(low_column_name='psPDn_4 [W/m2]',\n",
    "                         high_column_name='psPDtot_4 [W/m2]')\n",
    "table_metadata = {'fields': {'d [mm]': {'type': 'numerical', 'subtype': 'float'},\n",
    "                             'f [GHz]': {'type': 'numerical', 'subtype': 'float'},\n",
    "                             'pPDn [W/m2]': {'type': 'numerical', 'subtype': 'float'},\n",
    "                             'pPDtot [W/m2]': {'type': 'numerical', 'subtype': 'float'},\n",
    "                             'psPDn_1 [W/m2]': {'type': 'numerical', 'subtype': 'float'},\n",
    "                             'psPDtot_1 [W/m2]': {'type': 'numerical', 'subtype': 'float'},\n",
    "                             'psPDn_4 [W/m2]': {'type': 'numerical', 'subtype': 'float'},\n",
    "                             'psPDtot_4 [W/m2]': {'type': 'numerical', 'subtype': 'float'},\n",
    "                             'pDeltaT * 100 [°C]': {'type': 'numerical', 'subtype': 'float'}},\n",
    "                  'constraints': [n_tot_rel_1, n_tot_rel_4]}\n",
    "field_distributions = {'d [mm]': UniformUnivariate,\n",
    "                       'f [GHz]': UniformUnivariate,\n",
    "                       'pPDn [W/m2]': GaussianKDE,\n",
    "                       'pPDtot [W/m2]': GaussianKDE,\n",
    "                       'psPDn_1 [W/m2]': GaussianKDE,\n",
    "                       'psPDtot_1 [W/m2]': GaussianKDE,\n",
    "                       'psPDn_4 [W/m2]': GaussianKDE,\n",
    "                       'psPDtot_4 [W/m2]': GaussianKDE,\n",
    "                       'pDeltaT * 100 [°C]': GaussianKDE}"
   ]
  },
  {
   "cell_type": "code",
   "execution_count": null,
   "id": "a8216da4-01ee-4768-a444-11658c42f595",
   "metadata": {},
   "outputs": [],
   "source": [
    "copula = GaussianCopula(table_metadata=table_metadata,\n",
    "                        field_distributions=field_distributions,\n",
    "                        learn_rounding_scheme=False)\n",
    "copula.fit(clean_data)\n",
    "syn_data = copula.sample(num_rows=1000)"
   ]
  },
  {
   "cell_type": "markdown",
   "id": "8bc14be8-27fc-46a9-beb1-10e0b05d8892",
   "metadata": {},
   "source": [
    "## Quality report"
   ]
  },
  {
   "cell_type": "code",
   "execution_count": null,
   "id": "5797de1f-5ad1-4227-8fea-507c5e86bc47",
   "metadata": {},
   "outputs": [],
   "source": [
    "from sdmetrics.reports.single_table import QualityReport"
   ]
  },
  {
   "cell_type": "code",
   "execution_count": null,
   "id": "58085f1b-cf4e-4951-9158-2bbe0e1f562c",
   "metadata": {},
   "outputs": [],
   "source": [
    "report = QualityReport()\n",
    "report.generate(real_data=clean_data.drop(columns='pDeltaT [°C]'),\n",
    "                synthetic_data=syn_data,\n",
    "                metadata=table_metadata)"
   ]
  },
  {
   "cell_type": "markdown",
   "id": "7358f565-b092-47af-926a-24c626b47a1a",
   "metadata": {},
   "source": [
    "### Column shapes"
   ]
  },
  {
   "cell_type": "markdown",
   "id": "28d5407b-5e0d-4a85-8cc2-08ca6ced774d",
   "metadata": {},
   "source": [
    "The similarity of a real column vs. a synthetic column in terms of the column shapes - the marginal distribution of that column - by using the Kolmogorov-Smirnov (KS) test statistics. To compute this statistic, marginal distributions over real and synthetic data are converted into corresponding cumulative distribution functions. The KS statistic quantifies a distance between the empirical distribution functions. Here, the quality score is reported as 1 - KS statistic so that a higher score means higher quality."
   ]
  },
  {
   "cell_type": "code",
   "execution_count": null,
   "id": "6790ed7a-67a6-4428-a155-045f9174dea6",
   "metadata": {},
   "outputs": [],
   "source": [
    "from sdmetrics.reports.utils import get_column_plot"
   ]
  },
  {
   "cell_type": "code",
   "execution_count": null,
   "id": "a7039ed5-e2ca-4d3b-8ac2-ab5c9fc162bb",
   "metadata": {},
   "outputs": [],
   "source": [
    "col_shapes = report.get_details(property_name='Column Shapes')\n",
    "display(col_shapes)"
   ]
  },
  {
   "cell_type": "code",
   "execution_count": null,
   "id": "c4ce7a59-a203-4a6b-8d1f-efe45f71c5da",
   "metadata": {},
   "outputs": [],
   "source": [
    "get_column_plot(clean_data, syn_data, column_name='psPDn_1 [W/m2]', metadata=table_metadata)"
   ]
  },
  {
   "cell_type": "code",
   "execution_count": null,
   "id": "5f0b1a0d-2716-45fb-bce5-1a952937a205",
   "metadata": {},
   "outputs": [],
   "source": [
    "get_column_plot(clean_data, syn_data, column_name='pDeltaT * 100 [°C]', metadata=table_metadata)"
   ]
  },
  {
   "cell_type": "code",
   "execution_count": null,
   "id": "5d528dff-3f83-4e14-83fc-daaf80ab07fc",
   "metadata": {},
   "outputs": [],
   "source": [
    "%config InlineBackend.figure_format = 'retina'\n",
    "\n",
    "cs = sns.color_palette('rocket', 2)\n",
    "ps = ['00', '01', '10', '11']\n",
    "xs = ['psPDn_4 [W/m2]', 'psPDtot_4 [W/m2]', 'psPDn_1 [W/m2]', 'psPDtot_1 [W/m2]']\n",
    "ls = [r'$psPD_{\\text{n}, 4}$', r'$psPD_{\\text{tot}, 4}$', r'$psPD_{\\text{n}, 1}$', r'$psPD_{\\text{tot}, 1}$']\n",
    "\n",
    "fig, axs = plt.subplots(2, 2, sharex=False, sharey=False, figsize=(6, 4))\n",
    "for i, x in enumerate(xs):\n",
    "    irow, icol = ps[i]\n",
    "    axs[int(irow), int(icol)] = sns.histplot(data=clean_data, x=x,\n",
    "                                             color=cs[0], ls='-',\n",
    "                                             stat='density', kde=True,\n",
    "                                             line_kws={'ls': '-', 'lw': 2,},\n",
    "                                             label='true',\n",
    "                                             ax=axs[int(irow), int(icol)])\n",
    "    axs[int(irow), int(icol)] = sns.histplot(data=syn_data, x=x,\n",
    "                                             color=cs[1],\n",
    "                                             stat='density', kde=True,\n",
    "                                             line_kws={'ls': '--', 'lw': 2,},\n",
    "                                             label='synthetic',\n",
    "                                             ax=axs[int(irow), int(icol)])\n",
    "    axs[int(irow), int(icol)].set(title=ls[i],\n",
    "                                  xlabel='', ylabel='',\n",
    "                                 )\n",
    "fig.supxlabel(r'incident power density [W/m$^2$]')\n",
    "fig.supylabel(r'probability density')\n",
    "fig.suptitle('$\\\\mathbf{(a)}$', x=0.08, y=0.92)\n",
    "fig.tight_layout()\n",
    "sns.despine()"
   ]
  },
  {
   "cell_type": "code",
   "execution_count": null,
   "id": "58ccb87d-b526-4999-aaa3-fab8ff4a0cea",
   "metadata": {},
   "outputs": [],
   "source": [
    "%config InlineBackend.figure_format = 'retina'\n",
    "\n",
    "cs = sns.color_palette('rocket', 2)\n",
    "\n",
    "fig, axs = plt.subplots(2, 1, sharex=True, figsize=(6, 4))\n",
    "axs[0] = sns.histplot(data=clean_data, x='pDeltaT * 100 [°C]',\n",
    "                      color=cs[0], ls='-', lw=2, stat='density', kde=True, label='true', ax=axs[0])\n",
    "axs[0] = sns.kdeplot(data=syn_data, x='pDeltaT * 100 [°C]',\n",
    "                     color=cs[1], ls='--', lw=2, label='synthetic', ax=axs[0])\n",
    "axs[0].set(title='probability density function', xlabel='', ylabel='',\n",
    "           xticks=[0, 60, 120], xticklabels=[0, 0.6, 1.2], xlim=[0, 120],\n",
    "           yticks=[0, 0.015, 0.03], yticklabels=[0, 0.015, 0.03], ylim=[0, 0.03])\n",
    "axs[1] = sns.kdeplot(data=clean_data, x='pDeltaT * 100 [°C]',\n",
    "                     color=cs[0], ls='-', lw=2, cumulative=True, label='true', ax=axs[1])\n",
    "axs[1] = sns.kdeplot(data=syn_data, x='pDeltaT * 100 [°C]',\n",
    "                     color=cs[1], ls='--', lw=2, cumulative=True, label='synthetic', ax=axs[1])\n",
    "axs[1].set(title='cumulative density function', xlabel='', ylabel='',\n",
    "           xticks=[0, 60, 120], xticklabels=[0, 0.6, 1.2], xlim=[0, 120],\n",
    "           yticks=[0, 0.5, 1], yticklabels=[0, 0.5, 1], ylim=[0, 1])\n",
    "fig.supxlabel(r'$\\Delta T_{max}$ [°C]')\n",
    "fig.supylabel(r'probability density')\n",
    "fig.suptitle('$\\\\mathbf{(b)}$', x=0.08, y=0.92)\n",
    "handles, labels = fig.gca().get_legend_handles_labels()\n",
    "by_label = dict(zip(labels, handles))\n",
    "fig.legend(by_label.values(), by_label.keys(), title='data', bbox_to_anchor=(1.2, 0.615))\n",
    "fig.tight_layout()\n",
    "sns.despine()"
   ]
  },
  {
   "cell_type": "markdown",
   "id": "37395f4e-1e46-47ca-86b4-7b38ef5f7f2e",
   "metadata": {},
   "source": [
    "### Column pair trends"
   ]
  },
  {
   "cell_type": "markdown",
   "id": "f531df1b-a988-4a59-b9f8-c3c6c0ea19a1",
   "metadata": {},
   "source": [
    "For a pair of columns, the column pair trend is computed as a Pearson correlation coefficient (assuming linear dependence) separateljy on real and synthetic data.\n",
    "The correlation similarity reported as quality score is computed as the normalized relative difference between two separate correlation coefficients."
   ]
  },
  {
   "cell_type": "code",
   "execution_count": null,
   "id": "49fa6205-827f-4443-916a-c02392504f97",
   "metadata": {},
   "outputs": [],
   "source": [
    "col_pair_trends = report.get_details(property_name='Column Pair Trends')\n",
    "pDeltaT_pair_trend = col_pair_trends[col_pair_trends['Column 1'] == 'pDeltaT * 100 [°C]']\n",
    "display(pDeltaT_pair_trend)"
   ]
  },
  {
   "cell_type": "code",
   "execution_count": null,
   "id": "0fa7525a-46da-4775-a55f-c1d0a747ba86",
   "metadata": {},
   "outputs": [],
   "source": [
    "report.get_visualization(property_name='Column Pair Trends')"
   ]
  },
  {
   "cell_type": "markdown",
   "id": "53b7119a-ec26-4ad0-8241-2e9987e2aefe",
   "metadata": {},
   "source": [
    "### Regression tasks"
   ]
  },
  {
   "cell_type": "markdown",
   "id": "10b3271f-f138-43e6-b022-34a8c9e43f19",
   "metadata": {},
   "source": [
    "Regression metrics calculate the success of using synthetic data to perform an ML regression task by using linear regression and multi-layer perceptron neural network. It first trains the ML algorithm using the training data (usually synthetic data). The output is an ML model that can predict the value of a given target column. Then, it tests the ML model by making predictions on the testing data (usually real data) and compares against the actual values. It finally returns the Train-Synthetic-Test-Real (TSTR) score by means of the coefficient of determination (R2)."
   ]
  },
  {
   "cell_type": "code",
   "execution_count": null,
   "id": "e40c1de7-289a-40c9-aa72-f3e900658fb7",
   "metadata": {},
   "outputs": [],
   "source": [
    "from sdmetrics.single_table import LinearRegression"
   ]
  },
  {
   "cell_type": "code",
   "execution_count": null,
   "id": "c68da868-a59d-46f2-87c3-dc5114c8682c",
   "metadata": {},
   "outputs": [],
   "source": [
    "LinearRegression.compute(\n",
    "    test_data=clean_data.drop(columns='pDeltaT [°C]'),\n",
    "    train_data=syn_data,\n",
    "    target='pDeltaT * 100 [°C]',\n",
    "    metadata=table_metadata\n",
    ")"
   ]
  },
  {
   "cell_type": "markdown",
   "id": "8bd0e0db-6f8b-4d1b-bac6-0c7c0f4c9510",
   "metadata": {},
   "source": [
    "## Diagnostic report"
   ]
  },
  {
   "cell_type": "markdown",
   "id": "85b040a7-d88b-451e-a7b9-87a46ad3ad1d",
   "metadata": {},
   "source": [
    "Few basic checks on the synthetic data to give a general sense of the strengths and weakness of the synthetic data generation  basic checks on your synthetic data to give a general sense of the strengths and weakness of your synthetic data model.  basic checks on your synthetic data to give a general sense of the strengths and weakness of your synthetic data model.  basic checks on your synthetic data to give a general sense of the strengths and weakness of your synthetic data model. model. "
   ]
  },
  {
   "cell_type": "code",
   "execution_count": null,
   "id": "e9f4faae-4067-44b0-8c49-44f4f40fd9c4",
   "metadata": {},
   "outputs": [],
   "source": [
    "from sdmetrics.reports.single_table import DiagnosticReport"
   ]
  },
  {
   "cell_type": "code",
   "execution_count": null,
   "id": "9a13056b-23a4-4fe9-b4cd-72df825b954f",
   "metadata": {},
   "outputs": [],
   "source": [
    "report = DiagnosticReport()\n",
    "report.generate(real_data=clean_data.drop(columns='pDeltaT [°C]'),\n",
    "                synthetic_data=syn_data,\n",
    "                metadata=table_metadata)"
   ]
  },
  {
   "cell_type": "code",
   "execution_count": null,
   "id": "dc6567dc-52e6-4b96-a96c-aeaa5660289a",
   "metadata": {},
   "outputs": [],
   "source": [
    "report.get_properties()"
   ]
  },
  {
   "cell_type": "code",
   "execution_count": null,
   "id": "e9fc215a-eeeb-48b1-9a5a-6cd36976d604",
   "metadata": {},
   "outputs": [],
   "source": [
    "# Does the synthetic data cover the range of possible values?\n",
    "report.get_details(property_name='Coverage')"
   ]
  },
  {
   "cell_type": "code",
   "execution_count": null,
   "id": "7ef2d97c-18d3-4d57-a2f7-028e25af528f",
   "metadata": {},
   "outputs": [],
   "source": [
    "# Is the synthetic data unique or does it copy the real rows?\n",
    "report.get_details(property_name='Synthesis')"
   ]
  },
  {
   "cell_type": "code",
   "execution_count": null,
   "id": "f311fa40-0554-46b6-ad30-3f2d812a7e5a",
   "metadata": {},
   "outputs": [],
   "source": [
    "# Does the synthetic data respect the boundaries set by the real data?\n",
    "report.get_details(property_name='Boundaries')  # score is the percentage of points within boundaries"
   ]
  },
  {
   "cell_type": "code",
   "execution_count": null,
   "id": "85ff6ba5-4597-4748-83e7-472f272dbd46",
   "metadata": {},
   "outputs": [],
   "source": []
  }
 ],
 "metadata": {
  "kernelspec": {
   "display_name": "Python 3 (ipykernel)",
   "language": "python",
   "name": "python3"
  },
  "language_info": {
   "codemirror_mode": {
    "name": "ipython",
    "version": 3
   },
   "file_extension": ".py",
   "mimetype": "text/x-python",
   "name": "python",
   "nbconvert_exporter": "python",
   "pygments_lexer": "ipython3",
   "version": "3.9.15"
  }
 },
 "nbformat": 4,
 "nbformat_minor": 5
}
