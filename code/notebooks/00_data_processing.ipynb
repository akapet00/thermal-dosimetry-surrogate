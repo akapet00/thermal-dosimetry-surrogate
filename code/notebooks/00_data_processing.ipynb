{
 "cells": [
  {
   "cell_type": "code",
   "execution_count": null,
   "id": "5af1a321-823b-4a2a-8702-05b79c9d0e06",
   "metadata": {},
   "outputs": [],
   "source": [
    "import os\n",
    "\n",
    "import pandas as pd\n",
    "import seaborn as sns"
   ]
  },
  {
   "cell_type": "code",
   "execution_count": null,
   "id": "1e360162-1a14-4128-9450-2afc5db00cfe",
   "metadata": {},
   "outputs": [],
   "source": [
    "raw = os.path.join(os.pardir, 'data', 'raw')\n",
    "processed = os.path.join(os.pardir, 'data', 'processed')"
   ]
  },
  {
   "cell_type": "code",
   "execution_count": null,
   "id": "59d36ed8-e09c-4d88-a466-1c9336931342",
   "metadata": {},
   "outputs": [],
   "source": [
    "df = pd.read_excel(os.path.join(raw, 'UniSt.xlsx'))"
   ]
  },
  {
   "cell_type": "code",
   "execution_count": null,
   "id": "4d36fc2a-2791-401a-b434-10eb0e9ebb88",
   "metadata": {},
   "outputs": [],
   "source": []
  }
 ],
 "metadata": {
  "kernelspec": {
   "display_name": "Python 3 (ipykernel)",
   "language": "python",
   "name": "python3"
  },
  "language_info": {
   "codemirror_mode": {
    "name": "ipython",
    "version": 3
   },
   "file_extension": ".py",
   "mimetype": "text/x-python",
   "name": "python",
   "nbconvert_exporter": "python",
   "pygments_lexer": "ipython3",
   "version": "3.9.15"
  }
 },
 "nbformat": 4,
 "nbformat_minor": 5
}
