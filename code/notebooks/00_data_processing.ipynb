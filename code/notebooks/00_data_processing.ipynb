{
 "cells": [
  {
   "cell_type": "code",
   "execution_count": null,
   "id": "5af1a321-823b-4a2a-8702-05b79c9d0e06",
   "metadata": {},
   "outputs": [],
   "source": [
    "import os\n",
    "\n",
    "from copulas.univariate import UniformUnivariate, GaussianKDE\n",
    "import matplotlib.pyplot as plt\n",
    "import numpy as np\n",
    "import pandas as pd\n",
    "from scipy import stats\n",
    "from sdv.tabular import GaussianCopula\n",
    "from sdmetrics.reports.single_table import QualityReport\n",
    "from sdmetrics.reports.utils import get_column_plot\n",
    "import seaborn as sns\n",
    "sns.set()"
   ]
  },
  {
   "cell_type": "code",
   "execution_count": null,
   "id": "1e360162-1a14-4128-9450-2afc5db00cfe",
   "metadata": {},
   "outputs": [],
   "source": [
    "PATH_RAW_DATA = os.path.join(os.pardir, 'data', 'raw')\n",
    "PATH_SYN_DATA = os.path.join(os.pardir, 'data', 'processed')\n",
    "data = pd.read_excel(os.path.join(PATH_RAW_DATA, 'pDeltaT.xlsx'))\n",
    "clean_data = data.drop(columns='organization')\n",
    "clean_data.loc[:, 'pDeltaT * 100 [°C]'] = clean_data['pDeltaT [°C]'].values * 100"
   ]
  },
  {
   "cell_type": "code",
   "execution_count": null,
   "id": "a4ff82d0-9db3-4cd3-b869-0aad07d35c8b",
   "metadata": {},
   "outputs": [],
   "source": [
    "clean_data"
   ]
  },
  {
   "cell_type": "code",
   "execution_count": null,
   "id": "3fbed25f-a90f-4c36-9adf-272af2ca8a2b",
   "metadata": {},
   "outputs": [],
   "source": [
    "table_metadata = {'fields': {'d [mm]': {'type': 'numerical', 'subtype': 'float'},\n",
    "                             'f [GHz]': {'type': 'numerical', 'subtype': 'float'},\n",
    "                             'pPDn [W/m2]': {'type': 'numerical', 'subtype': 'float'},\n",
    "                             'pPDtot [W/m2]': {'type': 'numerical', 'subtype': 'float'},\n",
    "                             'psPDn_1 [W/m2]': {'type': 'numerical', 'subtype': 'float'},\n",
    "                             'psPDtot_1 [W/m2]': {'type': 'numerical', 'subtype': 'float'},\n",
    "                             'psPDn_4 [W/m2]': {'type': 'numerical', 'subtype': 'float'},\n",
    "                             'psPDtot_4 [W/m2]': {'type': 'numerical', 'subtype': 'float'},\n",
    "                             'pDeltaT * 100 [°C]': {'type': 'numerical', 'subtype': 'float'}},\n",
    "                  'constraints': []}\n",
    "field_distributions = {'d [mm]': UniformUnivariate,\n",
    "                       'f [GHz]': UniformUnivariate,\n",
    "                       'pPDn [W/m2]': GaussianKDE,\n",
    "                       'pPDtot [W/m2]': GaussianKDE,\n",
    "                       'psPDn_1 [W/m2]': GaussianKDE,\n",
    "                       'psPDtot_1 [W/m2]': GaussianKDE,\n",
    "                       'psPDn_4 [W/m2]': GaussianKDE,\n",
    "                       'psPDtot_4 [W/m2]': GaussianKDE,\n",
    "                       'pDeltaT * 100 [°C]': GaussianUnivariate}\n",
    "model = GaussianCopula(table_metadata=table_metadata,\n",
    "                       #field_distributions=field_distributions,\n",
    "                       default_distribution=GaussianKDE,\n",
    "                       learn_rounding_scheme=False)\n",
    "model.fit(clean_data)\n",
    "syn_data = model.sample(num_rows=1000)"
   ]
  },
  {
   "cell_type": "code",
   "execution_count": null,
   "id": "58085f1b-cf4e-4951-9158-2bbe0e1f562c",
   "metadata": {},
   "outputs": [],
   "source": [
    "report = QualityReport()\n",
    "report.generate(real_data=clean_data.drop(columns='pDeltaT [°C]'),\n",
    "                synthetic_data=syn_data,\n",
    "                metadata=table_metadata)"
   ]
  },
  {
   "cell_type": "code",
   "execution_count": null,
   "id": "a7039ed5-e2ca-4d3b-8ac2-ab5c9fc162bb",
   "metadata": {},
   "outputs": [],
   "source": [
    "col_shapes = report.get_details(property_name='Column Shapes')\n",
    "display(col_shapes)"
   ]
  },
  {
   "cell_type": "code",
   "execution_count": null,
   "id": "c4ce7a59-a203-4a6b-8d1f-efe45f71c5da",
   "metadata": {},
   "outputs": [],
   "source": [
    "get_column_plot(clean_data, syn_data, column_name='psPDtot_4 [W/m2]', metadata=table_metadata)"
   ]
  },
  {
   "cell_type": "code",
   "execution_count": null,
   "id": "5f0b1a0d-2716-45fb-bce5-1a952937a205",
   "metadata": {},
   "outputs": [],
   "source": [
    "get_column_plot(clean_data, syn_data, column_name='pDeltaT * 100 [°C]', metadata=table_metadata)"
   ]
  },
  {
   "cell_type": "code",
   "execution_count": null,
   "id": "49fa6205-827f-4443-916a-c02392504f97",
   "metadata": {},
   "outputs": [],
   "source": [
    "col_pair_trends = report.get_details(property_name='Column Pair Trends')\n",
    "pDeltaT_pair_trend = col_pair_trends[col_pair_trends['Column 1'] == 'pDeltaT * 100 [°C]']\n",
    "display(pDeltaT_pair_trend)"
   ]
  },
  {
   "cell_type": "code",
   "execution_count": null,
   "id": "d90c2d20-9e93-439c-ab69-3f2bd8b06526",
   "metadata": {},
   "outputs": [],
   "source": []
  }
 ],
 "metadata": {
  "kernelspec": {
   "display_name": "Python 3 (ipykernel)",
   "language": "python",
   "name": "python3"
  },
  "language_info": {
   "codemirror_mode": {
    "name": "ipython",
    "version": 3
   },
   "file_extension": ".py",
   "mimetype": "text/x-python",
   "name": "python",
   "nbconvert_exporter": "python",
   "pygments_lexer": "ipython3",
   "version": "3.9.15"
  }
 },
 "nbformat": 4,
 "nbformat_minor": 5
}
